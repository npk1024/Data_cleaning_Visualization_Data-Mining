{
 "cells": [
  {
   "cell_type": "markdown",
   "id": "9d0d73e8",
   "metadata": {},
   "source": [
    "## Dataset 1 - Amazon customer product reviews\n",
    "\n",
    "Based on the Amazon customer product review datasets which are available at: https://s3.amazonaws.com/amazon-reviews-pds/tsv/index.txt \n",
    "\n",
    "This site contains a number of large review datasets made available by Amazon and broken down by product category. I will sample a number of these, taking into account the need to keep the sample representative of the larger datasets. This will be done by using the 'star_rating', 'vine' and 'verified_purchase' features to proportionally reduce the dataset for performance reasons. \n",
    "The dataset was chosen for its richness of features, the flexibility of classification that they will present and for the opportunity to run some sentiment analysis on the reviews. The main challenge will be in drawing meaningful conclusions from the reduced dataset.    "
   ]
  },
  {
   "cell_type": "code",
   "execution_count": 116,
   "id": "304f6ad4",
   "metadata": {
    "scrolled": true
   },
   "outputs": [
    {
     "data": {
      "text/html": [
       "<div>\n",
       "<style scoped>\n",
       "    .dataframe tbody tr th:only-of-type {\n",
       "        vertical-align: middle;\n",
       "    }\n",
       "\n",
       "    .dataframe tbody tr th {\n",
       "        vertical-align: top;\n",
       "    }\n",
       "\n",
       "    .dataframe thead th {\n",
       "        text-align: right;\n",
       "    }\n",
       "</style>\n",
       "<table border=\"1\" class=\"dataframe\">\n",
       "  <thead>\n",
       "    <tr style=\"text-align: right;\">\n",
       "      <th></th>\n",
       "      <th>marketplace</th>\n",
       "      <th>customer_id</th>\n",
       "      <th>review_id</th>\n",
       "      <th>product_id</th>\n",
       "      <th>product_parent</th>\n",
       "      <th>product_title</th>\n",
       "      <th>product_category</th>\n",
       "      <th>star_rating</th>\n",
       "      <th>helpful_votes</th>\n",
       "      <th>total_votes</th>\n",
       "      <th>vine</th>\n",
       "      <th>verified_purchase</th>\n",
       "      <th>review_headline</th>\n",
       "      <th>review_body</th>\n",
       "      <th>review_date</th>\n",
       "      <th>review_length</th>\n",
       "    </tr>\n",
       "  </thead>\n",
       "  <tbody>\n",
       "    <tr>\n",
       "      <th>0</th>\n",
       "      <td>US</td>\n",
       "      <td>50654080</td>\n",
       "      <td>R1JQCBMH0WFSF5</td>\n",
       "      <td>B00094OX2S</td>\n",
       "      <td>784696562</td>\n",
       "      <td>APC UPS Replacement Battery Cartridge for APC ...</td>\n",
       "      <td>Electronics</td>\n",
       "      <td>1.0</td>\n",
       "      <td>0.0</td>\n",
       "      <td>0.0</td>\n",
       "      <td>N</td>\n",
       "      <td>N</td>\n",
       "      <td>Don't Buy APC Brand Replacement Batteries!!!</td>\n",
       "      <td>The super expensive RBC32 batteries I've been ...</td>\n",
       "      <td>2014-10-12</td>\n",
       "      <td>4863</td>\n",
       "    </tr>\n",
       "    <tr>\n",
       "      <th>1</th>\n",
       "      <td>US</td>\n",
       "      <td>15678628</td>\n",
       "      <td>R2OKDFTKEGJB98</td>\n",
       "      <td>B00M6Q9W50</td>\n",
       "      <td>69036016</td>\n",
       "      <td>Buyit? Waterproof Wireless Bluetooth Shower Sp...</td>\n",
       "      <td>Electronics</td>\n",
       "      <td>2.0</td>\n",
       "      <td>0.0</td>\n",
       "      <td>0.0</td>\n",
       "      <td>N</td>\n",
       "      <td>Y</td>\n",
       "      <td>Disappointed. Not as loud as I'd like</td>\n",
       "      <td>Disappointed. Not as loud as I'd like. Didn't ...</td>\n",
       "      <td>2015-02-25</td>\n",
       "      <td>168</td>\n",
       "    </tr>\n",
       "    <tr>\n",
       "      <th>2</th>\n",
       "      <td>US</td>\n",
       "      <td>15010771</td>\n",
       "      <td>R1OCZPQU1UA590</td>\n",
       "      <td>B00DWD4LGG</td>\n",
       "      <td>86013178</td>\n",
       "      <td>Soundcast BlueCast - Bluetooth Wireless Transm...</td>\n",
       "      <td>Electronics</td>\n",
       "      <td>5.0</td>\n",
       "      <td>2.0</td>\n",
       "      <td>2.0</td>\n",
       "      <td>N</td>\n",
       "      <td>Y</td>\n",
       "      <td>Great addition to a great speaker system</td>\n",
       "      <td>its awesome, works flawlessly, can now stream ...</td>\n",
       "      <td>2013-10-18</td>\n",
       "      <td>261</td>\n",
       "    </tr>\n",
       "    <tr>\n",
       "      <th>3</th>\n",
       "      <td>US</td>\n",
       "      <td>52975411</td>\n",
       "      <td>R1KTTUJNXW8FD</td>\n",
       "      <td>B00D5Q75RC</td>\n",
       "      <td>945049581</td>\n",
       "      <td>Bose SoundLink Mini Bluetooth Speaker</td>\n",
       "      <td>Electronics</td>\n",
       "      <td>5.0</td>\n",
       "      <td>0.0</td>\n",
       "      <td>0.0</td>\n",
       "      <td>N</td>\n",
       "      <td>Y</td>\n",
       "      <td>Five Stars</td>\n",
       "      <td>Awesome big sound out of a small package.  Hig...</td>\n",
       "      <td>2014-08-31</td>\n",
       "      <td>60</td>\n",
       "    </tr>\n",
       "    <tr>\n",
       "      <th>4</th>\n",
       "      <td>US</td>\n",
       "      <td>10184046</td>\n",
       "      <td>R32T7VUEH1000O</td>\n",
       "      <td>B001TH7T2U</td>\n",
       "      <td>626749398</td>\n",
       "      <td>AmazonBasics HDMI to DVI  Adapter Cable - 9.8 ...</td>\n",
       "      <td>Electronics</td>\n",
       "      <td>5.0</td>\n",
       "      <td>0.0</td>\n",
       "      <td>0.0</td>\n",
       "      <td>N</td>\n",
       "      <td>Y</td>\n",
       "      <td>HDMI to DVI</td>\n",
       "      <td>this is very comparable to the unit at Best Bu...</td>\n",
       "      <td>2013-04-05</td>\n",
       "      <td>127</td>\n",
       "    </tr>\n",
       "  </tbody>\n",
       "</table>\n",
       "</div>"
      ],
      "text/plain": [
       "  marketplace  customer_id       review_id  product_id  product_parent  \\\n",
       "0          US     50654080  R1JQCBMH0WFSF5  B00094OX2S       784696562   \n",
       "1          US     15678628  R2OKDFTKEGJB98  B00M6Q9W50        69036016   \n",
       "2          US     15010771  R1OCZPQU1UA590  B00DWD4LGG        86013178   \n",
       "3          US     52975411   R1KTTUJNXW8FD  B00D5Q75RC       945049581   \n",
       "4          US     10184046  R32T7VUEH1000O  B001TH7T2U       626749398   \n",
       "\n",
       "                                       product_title product_category  \\\n",
       "0  APC UPS Replacement Battery Cartridge for APC ...      Electronics   \n",
       "1  Buyit? Waterproof Wireless Bluetooth Shower Sp...      Electronics   \n",
       "2  Soundcast BlueCast - Bluetooth Wireless Transm...      Electronics   \n",
       "3              Bose SoundLink Mini Bluetooth Speaker      Electronics   \n",
       "4  AmazonBasics HDMI to DVI  Adapter Cable - 9.8 ...      Electronics   \n",
       "\n",
       "   star_rating  helpful_votes  total_votes vine verified_purchase  \\\n",
       "0          1.0            0.0          0.0    N                 N   \n",
       "1          2.0            0.0          0.0    N                 Y   \n",
       "2          5.0            2.0          2.0    N                 Y   \n",
       "3          5.0            0.0          0.0    N                 Y   \n",
       "4          5.0            0.0          0.0    N                 Y   \n",
       "\n",
       "                                review_headline  \\\n",
       "0  Don't Buy APC Brand Replacement Batteries!!!   \n",
       "1         Disappointed. Not as loud as I'd like   \n",
       "2      Great addition to a great speaker system   \n",
       "3                                    Five Stars   \n",
       "4                                   HDMI to DVI   \n",
       "\n",
       "                                         review_body review_date  \\\n",
       "0  The super expensive RBC32 batteries I've been ...  2014-10-12   \n",
       "1  Disappointed. Not as loud as I'd like. Didn't ...  2015-02-25   \n",
       "2  its awesome, works flawlessly, can now stream ...  2013-10-18   \n",
       "3  Awesome big sound out of a small package.  Hig...  2014-08-31   \n",
       "4  this is very comparable to the unit at Best Bu...  2013-04-05   \n",
       "\n",
       "   review_length  \n",
       "0           4863  \n",
       "1            168  \n",
       "2            261  \n",
       "3             60  \n",
       "4            127  "
      ]
     },
     "execution_count": 116,
     "metadata": {},
     "output_type": "execute_result"
    }
   ],
   "source": [
    "f_original = pd.read_csv('/Users/nikhilkamerkar/Downloads/AmazonMergedDataset 2.tsv', sep='\\t', on_bad_lines='skip')\n",
    "df_original[\"review_length\"] = df_original[\"review_body\"].map(str).apply(len)\n",
    "df_original.head()"
   ]
  },
  {
   "cell_type": "code",
   "execution_count": 117,
   "id": "1e1a0651",
   "metadata": {
    "scrolled": true
   },
   "outputs": [
    {
     "data": {
      "text/html": [
       "<div>\n",
       "<style scoped>\n",
       "    .dataframe tbody tr th:only-of-type {\n",
       "        vertical-align: middle;\n",
       "    }\n",
       "\n",
       "    .dataframe tbody tr th {\n",
       "        vertical-align: top;\n",
       "    }\n",
       "\n",
       "    .dataframe thead th {\n",
       "        text-align: right;\n",
       "    }\n",
       "</style>\n",
       "<table border=\"1\" class=\"dataframe\">\n",
       "  <thead>\n",
       "    <tr style=\"text-align: right;\">\n",
       "      <th></th>\n",
       "      <th>count</th>\n",
       "      <th>mean</th>\n",
       "      <th>std</th>\n",
       "      <th>min</th>\n",
       "      <th>25%</th>\n",
       "      <th>50%</th>\n",
       "      <th>75%</th>\n",
       "      <th>max</th>\n",
       "    </tr>\n",
       "  </thead>\n",
       "  <tbody>\n",
       "    <tr>\n",
       "      <th>customer_id</th>\n",
       "      <td>147795.0</td>\n",
       "      <td>2.885022e+07</td>\n",
       "      <td>1.529098e+07</td>\n",
       "      <td>10497.0</td>\n",
       "      <td>15150472.5</td>\n",
       "      <td>28148959.0</td>\n",
       "      <td>43206666.5</td>\n",
       "      <td>53096397.0</td>\n",
       "    </tr>\n",
       "    <tr>\n",
       "      <th>product_parent</th>\n",
       "      <td>147795.0</td>\n",
       "      <td>5.014987e+08</td>\n",
       "      <td>2.886232e+08</td>\n",
       "      <td>13764.0</td>\n",
       "      <td>251873201.0</td>\n",
       "      <td>501207531.0</td>\n",
       "      <td>751019354.0</td>\n",
       "      <td>999991133.0</td>\n",
       "    </tr>\n",
       "    <tr>\n",
       "      <th>star_rating</th>\n",
       "      <td>147795.0</td>\n",
       "      <td>4.164343e+00</td>\n",
       "      <td>1.315031e+00</td>\n",
       "      <td>1.0</td>\n",
       "      <td>4.0</td>\n",
       "      <td>5.0</td>\n",
       "      <td>5.0</td>\n",
       "      <td>5.0</td>\n",
       "    </tr>\n",
       "    <tr>\n",
       "      <th>helpful_votes</th>\n",
       "      <td>147795.0</td>\n",
       "      <td>1.912433e+00</td>\n",
       "      <td>1.424798e+01</td>\n",
       "      <td>0.0</td>\n",
       "      <td>0.0</td>\n",
       "      <td>0.0</td>\n",
       "      <td>1.0</td>\n",
       "      <td>1829.0</td>\n",
       "    </tr>\n",
       "    <tr>\n",
       "      <th>total_votes</th>\n",
       "      <td>147795.0</td>\n",
       "      <td>2.467194e+00</td>\n",
       "      <td>1.567240e+01</td>\n",
       "      <td>0.0</td>\n",
       "      <td>0.0</td>\n",
       "      <td>0.0</td>\n",
       "      <td>1.0</td>\n",
       "      <td>2047.0</td>\n",
       "    </tr>\n",
       "    <tr>\n",
       "      <th>review_length</th>\n",
       "      <td>147795.0</td>\n",
       "      <td>3.304543e+02</td>\n",
       "      <td>5.896993e+02</td>\n",
       "      <td>1.0</td>\n",
       "      <td>95.0</td>\n",
       "      <td>173.0</td>\n",
       "      <td>363.0</td>\n",
       "      <td>37039.0</td>\n",
       "    </tr>\n",
       "  </tbody>\n",
       "</table>\n",
       "</div>"
      ],
      "text/plain": [
       "                   count          mean           std      min          25%  \\\n",
       "customer_id     147795.0  2.885022e+07  1.529098e+07  10497.0   15150472.5   \n",
       "product_parent  147795.0  5.014987e+08  2.886232e+08  13764.0  251873201.0   \n",
       "star_rating     147795.0  4.164343e+00  1.315031e+00      1.0          4.0   \n",
       "helpful_votes   147795.0  1.912433e+00  1.424798e+01      0.0          0.0   \n",
       "total_votes     147795.0  2.467194e+00  1.567240e+01      0.0          0.0   \n",
       "review_length   147795.0  3.304543e+02  5.896993e+02      1.0         95.0   \n",
       "\n",
       "                        50%          75%          max  \n",
       "customer_id      28148959.0   43206666.5   53096397.0  \n",
       "product_parent  501207531.0  751019354.0  999991133.0  \n",
       "star_rating             5.0          5.0          5.0  \n",
       "helpful_votes           0.0          1.0       1829.0  \n",
       "total_votes             0.0          1.0       2047.0  \n",
       "review_length         173.0        363.0      37039.0  "
      ]
     },
     "execution_count": 117,
     "metadata": {},
     "output_type": "execute_result"
    }
   ],
   "source": [
    "df_original.describe().T"
   ]
  },
  {
   "cell_type": "code",
   "execution_count": 16,
   "id": "720ca37a",
   "metadata": {},
   "outputs": [
    {
     "name": "stdout",
     "output_type": "stream",
     "text": [
      "<class 'pandas.core.frame.DataFrame'>\n",
      "RangeIndex: 147795 entries, 0 to 147794\n",
      "Data columns (total 16 columns):\n",
      " #   Column             Non-Null Count   Dtype  \n",
      "---  ------             --------------   -----  \n",
      " 0   marketplace        147795 non-null  object \n",
      " 1   customer_id        147795 non-null  int64  \n",
      " 2   review_id          147795 non-null  object \n",
      " 3   product_id         147795 non-null  object \n",
      " 4   product_parent     147795 non-null  int64  \n",
      " 5   product_title      147794 non-null  object \n",
      " 6   product_category   147795 non-null  object \n",
      " 7   star_rating        147795 non-null  float64\n",
      " 8   helpful_votes      147795 non-null  float64\n",
      " 9   total_votes        147795 non-null  float64\n",
      " 10  vine               147795 non-null  object \n",
      " 11  verified_purchase  147795 non-null  object \n",
      " 12  review_headline    147793 non-null  object \n",
      " 13  review_body        147790 non-null  object \n",
      " 14  review_date        147795 non-null  object \n",
      " 15  review_length      147795 non-null  int64  \n",
      "dtypes: float64(3), int64(3), object(10)\n",
      "memory usage: 18.0+ MB\n"
     ]
    }
   ],
   "source": [
    "df_original.info()"
   ]
  },
  {
   "cell_type": "code",
   "execution_count": 17,
   "id": "c66bcc47",
   "metadata": {},
   "outputs": [
    {
     "data": {
      "text/html": [
       "<div>\n",
       "<style scoped>\n",
       "    .dataframe tbody tr th:only-of-type {\n",
       "        vertical-align: middle;\n",
       "    }\n",
       "\n",
       "    .dataframe tbody tr th {\n",
       "        vertical-align: top;\n",
       "    }\n",
       "\n",
       "    .dataframe thead th {\n",
       "        text-align: right;\n",
       "    }\n",
       "</style>\n",
       "<table border=\"1\" class=\"dataframe\">\n",
       "  <thead>\n",
       "    <tr style=\"text-align: right;\">\n",
       "      <th></th>\n",
       "      <th>marketplace</th>\n",
       "      <th>customer_id</th>\n",
       "      <th>review_id</th>\n",
       "      <th>product_id</th>\n",
       "      <th>product_parent</th>\n",
       "      <th>product_title</th>\n",
       "      <th>product_category</th>\n",
       "      <th>star_rating</th>\n",
       "      <th>helpful_votes</th>\n",
       "      <th>total_votes</th>\n",
       "      <th>vine</th>\n",
       "      <th>verified_purchase</th>\n",
       "      <th>review_headline</th>\n",
       "      <th>review_body</th>\n",
       "      <th>review_date</th>\n",
       "      <th>review_length</th>\n",
       "    </tr>\n",
       "  </thead>\n",
       "  <tbody>\n",
       "    <tr>\n",
       "      <th>78011</th>\n",
       "      <td>US</td>\n",
       "      <td>42896238</td>\n",
       "      <td>R3J5RD7PE67Z4V</td>\n",
       "      <td>B001KVZTFO</td>\n",
       "      <td>836453706</td>\n",
       "      <td>Crock-Pot 6.5-Quart, Programmable Touchscreen ...</td>\n",
       "      <td>Kitchen</td>\n",
       "      <td>4.0</td>\n",
       "      <td>0.0</td>\n",
       "      <td>3.0</td>\n",
       "      <td>N</td>\n",
       "      <td>Y</td>\n",
       "      <td>Four Stars</td>\n",
       "      <td>good</td>\n",
       "      <td>2014-11-23</td>\n",
       "      <td>4</td>\n",
       "    </tr>\n",
       "    <tr>\n",
       "      <th>123102</th>\n",
       "      <td>US</td>\n",
       "      <td>24125881</td>\n",
       "      <td>R215BAEMB8BV9Z</td>\n",
       "      <td>B000PKNH5K</td>\n",
       "      <td>891534979</td>\n",
       "      <td>OurPets Durapet Stainless Steel Cat Dish, 0.75...</td>\n",
       "      <td>Pet Products</td>\n",
       "      <td>5.0</td>\n",
       "      <td>0.0</td>\n",
       "      <td>0.0</td>\n",
       "      <td>N</td>\n",
       "      <td>Y</td>\n",
       "      <td>Great value!</td>\n",
       "      <td>We purchased two of the DuraPet 8oz Cat Dishes...</td>\n",
       "      <td>2014-09-01</td>\n",
       "      <td>566</td>\n",
       "    </tr>\n",
       "    <tr>\n",
       "      <th>139529</th>\n",
       "      <td>US</td>\n",
       "      <td>45096837</td>\n",
       "      <td>RJKXU2UEXWDJV</td>\n",
       "      <td>B0091NAG1U</td>\n",
       "      <td>232921366</td>\n",
       "      <td>TRITTON Kunai Stereo Headset for Wii U and Nin...</td>\n",
       "      <td>Video Games</td>\n",
       "      <td>5.0</td>\n",
       "      <td>1.0</td>\n",
       "      <td>2.0</td>\n",
       "      <td>N</td>\n",
       "      <td>Y</td>\n",
       "      <td>Great Headset!</td>\n",
       "      <td>I was looking for some headphones for recreati...</td>\n",
       "      <td>2014-01-03</td>\n",
       "      <td>591</td>\n",
       "    </tr>\n",
       "    <tr>\n",
       "      <th>116855</th>\n",
       "      <td>US</td>\n",
       "      <td>27051116</td>\n",
       "      <td>R2G4O0184LKS7W</td>\n",
       "      <td>B008U1DBFM</td>\n",
       "      <td>409219053</td>\n",
       "      <td>HDP Cat Tunnel Collapsible PET KITTEN PLAY 53\"...</td>\n",
       "      <td>Pet Products</td>\n",
       "      <td>5.0</td>\n",
       "      <td>0.0</td>\n",
       "      <td>0.0</td>\n",
       "      <td>N</td>\n",
       "      <td>Y</td>\n",
       "      <td>Best of all</td>\n",
       "      <td>oh, wow!  Although my cats were hesitant about...</td>\n",
       "      <td>2015-02-24</td>\n",
       "      <td>337</td>\n",
       "    </tr>\n",
       "    <tr>\n",
       "      <th>42056</th>\n",
       "      <td>US</td>\n",
       "      <td>26975298</td>\n",
       "      <td>R2TTVYGB4UK17C</td>\n",
       "      <td>B00HNTPF7E</td>\n",
       "      <td>287810209</td>\n",
       "      <td>Viva Naturals Organic Extra Virgin Coconut Oil...</td>\n",
       "      <td>Grocery</td>\n",
       "      <td>5.0</td>\n",
       "      <td>0.0</td>\n",
       "      <td>0.0</td>\n",
       "      <td>N</td>\n",
       "      <td>Y</td>\n",
       "      <td>good quality coconut oil</td>\n",
       "      <td>Tastes great and has a wonderful coconut scent.</td>\n",
       "      <td>2014-11-12</td>\n",
       "      <td>47</td>\n",
       "    </tr>\n",
       "    <tr>\n",
       "      <th>...</th>\n",
       "      <td>...</td>\n",
       "      <td>...</td>\n",
       "      <td>...</td>\n",
       "      <td>...</td>\n",
       "      <td>...</td>\n",
       "      <td>...</td>\n",
       "      <td>...</td>\n",
       "      <td>...</td>\n",
       "      <td>...</td>\n",
       "      <td>...</td>\n",
       "      <td>...</td>\n",
       "      <td>...</td>\n",
       "      <td>...</td>\n",
       "      <td>...</td>\n",
       "      <td>...</td>\n",
       "      <td>...</td>\n",
       "    </tr>\n",
       "    <tr>\n",
       "      <th>106581</th>\n",
       "      <td>US</td>\n",
       "      <td>32277404</td>\n",
       "      <td>R1O5CYLP2HLHYK</td>\n",
       "      <td>B0002DK096</td>\n",
       "      <td>994318313</td>\n",
       "      <td>JW Pet Company GripSoft Cat Shedding Blade</td>\n",
       "      <td>Pet Products</td>\n",
       "      <td>5.0</td>\n",
       "      <td>0.0</td>\n",
       "      <td>0.0</td>\n",
       "      <td>N</td>\n",
       "      <td>Y</td>\n",
       "      <td>Does what I expected</td>\n",
       "      <td>I have 3 outdoor (though in a protected area) ...</td>\n",
       "      <td>2014-05-06</td>\n",
       "      <td>1273</td>\n",
       "    </tr>\n",
       "    <tr>\n",
       "      <th>2867</th>\n",
       "      <td>US</td>\n",
       "      <td>26011222</td>\n",
       "      <td>R1P8MNR6W2Y1GA</td>\n",
       "      <td>B002NU5RZS</td>\n",
       "      <td>459538833</td>\n",
       "      <td>C Crane Co CC2B Radio-2 AM FM/Weather and 2-Me...</td>\n",
       "      <td>Electronics</td>\n",
       "      <td>5.0</td>\n",
       "      <td>8.0</td>\n",
       "      <td>9.0</td>\n",
       "      <td>N</td>\n",
       "      <td>Y</td>\n",
       "      <td>Excellant performance-great bedside radio</td>\n",
       "      <td>I got radio this to listen to AM stations at b...</td>\n",
       "      <td>2011-04-04</td>\n",
       "      <td>1187</td>\n",
       "    </tr>\n",
       "    <tr>\n",
       "      <th>37657</th>\n",
       "      <td>US</td>\n",
       "      <td>46898972</td>\n",
       "      <td>R318P59X5EMUGV</td>\n",
       "      <td>B000XEV9YE</td>\n",
       "      <td>535506702</td>\n",
       "      <td>Taylors of Harrogate Yorkshire Gold</td>\n",
       "      <td>Grocery</td>\n",
       "      <td>5.0</td>\n",
       "      <td>0.0</td>\n",
       "      <td>0.0</td>\n",
       "      <td>N</td>\n",
       "      <td>Y</td>\n",
       "      <td>Five Stars</td>\n",
       "      <td>Wonderful!</td>\n",
       "      <td>2014-12-02</td>\n",
       "      <td>10</td>\n",
       "    </tr>\n",
       "    <tr>\n",
       "      <th>30944</th>\n",
       "      <td>US</td>\n",
       "      <td>48183553</td>\n",
       "      <td>R2W2BJLIL2ERMT</td>\n",
       "      <td>B000EP6OAG</td>\n",
       "      <td>368249078</td>\n",
       "      <td>Lobo Spicy Tom Yum soup mix 30g X 5 pack</td>\n",
       "      <td>Grocery</td>\n",
       "      <td>4.0</td>\n",
       "      <td>0.0</td>\n",
       "      <td>0.0</td>\n",
       "      <td>N</td>\n",
       "      <td>Y</td>\n",
       "      <td>Four Stars</td>\n",
       "      <td>Very nice taste! Spicy and sour and full of To...</td>\n",
       "      <td>2015-06-01</td>\n",
       "      <td>76</td>\n",
       "    </tr>\n",
       "    <tr>\n",
       "      <th>98154</th>\n",
       "      <td>US</td>\n",
       "      <td>43288614</td>\n",
       "      <td>R3OW36K10GRSS8</td>\n",
       "      <td>B00176NIKK</td>\n",
       "      <td>897756890</td>\n",
       "      <td>Godinger Dublin Covered Butter Dish and Salt &amp;...</td>\n",
       "      <td>Kitchen</td>\n",
       "      <td>5.0</td>\n",
       "      <td>0.0</td>\n",
       "      <td>0.0</td>\n",
       "      <td>N</td>\n",
       "      <td>Y</td>\n",
       "      <td>Five Stars</td>\n",
       "      <td>Looks great and it's tall enough that the butt...</td>\n",
       "      <td>2015-01-07</td>\n",
       "      <td>75</td>\n",
       "    </tr>\n",
       "  </tbody>\n",
       "</table>\n",
       "<p>29559 rows × 16 columns</p>\n",
       "</div>"
      ],
      "text/plain": [
       "       marketplace  customer_id       review_id  product_id  product_parent  \\\n",
       "78011           US     42896238  R3J5RD7PE67Z4V  B001KVZTFO       836453706   \n",
       "123102          US     24125881  R215BAEMB8BV9Z  B000PKNH5K       891534979   \n",
       "139529          US     45096837   RJKXU2UEXWDJV  B0091NAG1U       232921366   \n",
       "116855          US     27051116  R2G4O0184LKS7W  B008U1DBFM       409219053   \n",
       "42056           US     26975298  R2TTVYGB4UK17C  B00HNTPF7E       287810209   \n",
       "...            ...          ...             ...         ...             ...   \n",
       "106581          US     32277404  R1O5CYLP2HLHYK  B0002DK096       994318313   \n",
       "2867            US     26011222  R1P8MNR6W2Y1GA  B002NU5RZS       459538833   \n",
       "37657           US     46898972  R318P59X5EMUGV  B000XEV9YE       535506702   \n",
       "30944           US     48183553  R2W2BJLIL2ERMT  B000EP6OAG       368249078   \n",
       "98154           US     43288614  R3OW36K10GRSS8  B00176NIKK       897756890   \n",
       "\n",
       "                                            product_title product_category  \\\n",
       "78011   Crock-Pot 6.5-Quart, Programmable Touchscreen ...          Kitchen   \n",
       "123102  OurPets Durapet Stainless Steel Cat Dish, 0.75...     Pet Products   \n",
       "139529  TRITTON Kunai Stereo Headset for Wii U and Nin...      Video Games   \n",
       "116855  HDP Cat Tunnel Collapsible PET KITTEN PLAY 53\"...     Pet Products   \n",
       "42056   Viva Naturals Organic Extra Virgin Coconut Oil...          Grocery   \n",
       "...                                                   ...              ...   \n",
       "106581         JW Pet Company GripSoft Cat Shedding Blade     Pet Products   \n",
       "2867    C Crane Co CC2B Radio-2 AM FM/Weather and 2-Me...      Electronics   \n",
       "37657                 Taylors of Harrogate Yorkshire Gold          Grocery   \n",
       "30944            Lobo Spicy Tom Yum soup mix 30g X 5 pack          Grocery   \n",
       "98154   Godinger Dublin Covered Butter Dish and Salt &...          Kitchen   \n",
       "\n",
       "        star_rating  helpful_votes  total_votes vine verified_purchase  \\\n",
       "78011           4.0            0.0          3.0    N                 Y   \n",
       "123102          5.0            0.0          0.0    N                 Y   \n",
       "139529          5.0            1.0          2.0    N                 Y   \n",
       "116855          5.0            0.0          0.0    N                 Y   \n",
       "42056           5.0            0.0          0.0    N                 Y   \n",
       "...             ...            ...          ...  ...               ...   \n",
       "106581          5.0            0.0          0.0    N                 Y   \n",
       "2867            5.0            8.0          9.0    N                 Y   \n",
       "37657           5.0            0.0          0.0    N                 Y   \n",
       "30944           4.0            0.0          0.0    N                 Y   \n",
       "98154           5.0            0.0          0.0    N                 Y   \n",
       "\n",
       "                                  review_headline  \\\n",
       "78011                                  Four Stars   \n",
       "123102                               Great value!   \n",
       "139529                             Great Headset!   \n",
       "116855                                Best of all   \n",
       "42056                    good quality coconut oil   \n",
       "...                                           ...   \n",
       "106581                       Does what I expected   \n",
       "2867    Excellant performance-great bedside radio   \n",
       "37657                                  Five Stars   \n",
       "30944                                  Four Stars   \n",
       "98154                                  Five Stars   \n",
       "\n",
       "                                              review_body review_date  \\\n",
       "78011                                                good  2014-11-23   \n",
       "123102  We purchased two of the DuraPet 8oz Cat Dishes...  2014-09-01   \n",
       "139529  I was looking for some headphones for recreati...  2014-01-03   \n",
       "116855  oh, wow!  Although my cats were hesitant about...  2015-02-24   \n",
       "42056     Tastes great and has a wonderful coconut scent.  2014-11-12   \n",
       "...                                                   ...         ...   \n",
       "106581  I have 3 outdoor (though in a protected area) ...  2014-05-06   \n",
       "2867    I got radio this to listen to AM stations at b...  2011-04-04   \n",
       "37657                                          Wonderful!  2014-12-02   \n",
       "30944   Very nice taste! Spicy and sour and full of To...  2015-06-01   \n",
       "98154   Looks great and it's tall enough that the butt...  2015-01-07   \n",
       "\n",
       "        review_length  \n",
       "78011               4  \n",
       "123102            566  \n",
       "139529            591  \n",
       "116855            337  \n",
       "42056              47  \n",
       "...               ...  \n",
       "106581           1273  \n",
       "2867             1187  \n",
       "37657              10  \n",
       "30944              76  \n",
       "98154              75  \n",
       "\n",
       "[29559 rows x 16 columns]"
      ]
     },
     "execution_count": 17,
     "metadata": {},
     "output_type": "execute_result"
    }
   ],
   "source": [
    "#Just an example if we want to use franction of the data\n",
    "data_set_buffer = df_original.sample(frac=0.2)\n",
    "data_set_buffer"
   ]
  },
  {
   "cell_type": "code",
   "execution_count": 18,
   "id": "04b7e857",
   "metadata": {},
   "outputs": [
    {
     "data": {
      "text/plain": [
       "(29559, 16)"
      ]
     },
     "execution_count": 18,
     "metadata": {},
     "output_type": "execute_result"
    }
   ],
   "source": [
    "data_set_buffer.shape"
   ]
  },
  {
   "cell_type": "code",
   "execution_count": 19,
   "id": "de1d2d3e",
   "metadata": {
    "scrolled": false
   },
   "outputs": [
    {
     "data": {
      "text/html": [
       "<div>\n",
       "<style scoped>\n",
       "    .dataframe tbody tr th:only-of-type {\n",
       "        vertical-align: middle;\n",
       "    }\n",
       "\n",
       "    .dataframe tbody tr th {\n",
       "        vertical-align: top;\n",
       "    }\n",
       "\n",
       "    .dataframe thead th {\n",
       "        text-align: right;\n",
       "    }\n",
       "</style>\n",
       "<table border=\"1\" class=\"dataframe\">\n",
       "  <thead>\n",
       "    <tr style=\"text-align: right;\">\n",
       "      <th></th>\n",
       "      <th>customer_id</th>\n",
       "      <th>product_parent</th>\n",
       "      <th>star_rating</th>\n",
       "      <th>helpful_votes</th>\n",
       "      <th>total_votes</th>\n",
       "      <th>review_length</th>\n",
       "    </tr>\n",
       "  </thead>\n",
       "  <tbody>\n",
       "    <tr>\n",
       "      <th>count</th>\n",
       "      <td>2.955900e+04</td>\n",
       "      <td>2.955900e+04</td>\n",
       "      <td>29559.000000</td>\n",
       "      <td>29559.000000</td>\n",
       "      <td>29559.000000</td>\n",
       "      <td>29559.000000</td>\n",
       "    </tr>\n",
       "    <tr>\n",
       "      <th>mean</th>\n",
       "      <td>2.881210e+07</td>\n",
       "      <td>5.026680e+08</td>\n",
       "      <td>4.176258</td>\n",
       "      <td>1.931899</td>\n",
       "      <td>2.477080</td>\n",
       "      <td>328.063128</td>\n",
       "    </tr>\n",
       "    <tr>\n",
       "      <th>std</th>\n",
       "      <td>1.529714e+07</td>\n",
       "      <td>2.881429e+08</td>\n",
       "      <td>1.313781</td>\n",
       "      <td>13.507071</td>\n",
       "      <td>14.896563</td>\n",
       "      <td>583.753371</td>\n",
       "    </tr>\n",
       "    <tr>\n",
       "      <th>min</th>\n",
       "      <td>1.049700e+04</td>\n",
       "      <td>3.900300e+04</td>\n",
       "      <td>1.000000</td>\n",
       "      <td>0.000000</td>\n",
       "      <td>0.000000</td>\n",
       "      <td>1.000000</td>\n",
       "    </tr>\n",
       "    <tr>\n",
       "      <th>25%</th>\n",
       "      <td>1.520155e+07</td>\n",
       "      <td>2.543157e+08</td>\n",
       "      <td>4.000000</td>\n",
       "      <td>0.000000</td>\n",
       "      <td>0.000000</td>\n",
       "      <td>93.000000</td>\n",
       "    </tr>\n",
       "    <tr>\n",
       "      <th>50%</th>\n",
       "      <td>2.803045e+07</td>\n",
       "      <td>5.053273e+08</td>\n",
       "      <td>5.000000</td>\n",
       "      <td>0.000000</td>\n",
       "      <td>0.000000</td>\n",
       "      <td>172.000000</td>\n",
       "    </tr>\n",
       "    <tr>\n",
       "      <th>75%</th>\n",
       "      <td>4.313924e+07</td>\n",
       "      <td>7.502638e+08</td>\n",
       "      <td>5.000000</td>\n",
       "      <td>1.000000</td>\n",
       "      <td>1.000000</td>\n",
       "      <td>361.000000</td>\n",
       "    </tr>\n",
       "    <tr>\n",
       "      <th>max</th>\n",
       "      <td>5.309640e+07</td>\n",
       "      <td>9.999911e+08</td>\n",
       "      <td>5.000000</td>\n",
       "      <td>1106.000000</td>\n",
       "      <td>1133.000000</td>\n",
       "      <td>20384.000000</td>\n",
       "    </tr>\n",
       "  </tbody>\n",
       "</table>\n",
       "</div>"
      ],
      "text/plain": [
       "        customer_id  product_parent   star_rating  helpful_votes  \\\n",
       "count  2.955900e+04    2.955900e+04  29559.000000   29559.000000   \n",
       "mean   2.881210e+07    5.026680e+08      4.176258       1.931899   \n",
       "std    1.529714e+07    2.881429e+08      1.313781      13.507071   \n",
       "min    1.049700e+04    3.900300e+04      1.000000       0.000000   \n",
       "25%    1.520155e+07    2.543157e+08      4.000000       0.000000   \n",
       "50%    2.803045e+07    5.053273e+08      5.000000       0.000000   \n",
       "75%    4.313924e+07    7.502638e+08      5.000000       1.000000   \n",
       "max    5.309640e+07    9.999911e+08      5.000000    1106.000000   \n",
       "\n",
       "        total_votes  review_length  \n",
       "count  29559.000000   29559.000000  \n",
       "mean       2.477080     328.063128  \n",
       "std       14.896563     583.753371  \n",
       "min        0.000000       1.000000  \n",
       "25%        0.000000      93.000000  \n",
       "50%        0.000000     172.000000  \n",
       "75%        1.000000     361.000000  \n",
       "max     1133.000000   20384.000000  "
      ]
     },
     "execution_count": 19,
     "metadata": {},
     "output_type": "execute_result"
    }
   ],
   "source": [
    "data_set_buffer.describe()"
   ]
  },
  {
   "cell_type": "markdown",
   "id": "cdf7a85f",
   "metadata": {},
   "source": [
    "## Data Cleaning"
   ]
  },
  {
   "cell_type": "markdown",
   "id": "7930ea09",
   "metadata": {},
   "source": [
    "### Removing coloumns not being used"
   ]
  },
  {
   "cell_type": "markdown",
   "id": "cf5d0e4f",
   "metadata": {},
   "source": [
    "The marketplace, product_category and review_id coloumns are not likely to be used in the analysis, so are removed to decrease the size of the dataset."
   ]
  },
  {
   "cell_type": "code",
   "execution_count": 20,
   "id": "fb94523f",
   "metadata": {},
   "outputs": [],
   "source": [
    "df_original = df_original.drop(\"marketplace\", axis=1)  \n",
    "df_original = df_original.drop(\"product_category\", axis=1) \n",
    "df_original = df_original.drop(\"review_id\", axis=1)"
   ]
  },
  {
   "cell_type": "markdown",
   "id": "575a4225",
   "metadata": {},
   "source": [
    "### Cleaning nan values for review_body"
   ]
  },
  {
   "cell_type": "code",
   "execution_count": 21,
   "id": "ba7d2f14",
   "metadata": {
    "scrolled": true
   },
   "outputs": [
    {
     "data": {
      "text/plain": [
       "customer_id          0\n",
       "product_id           0\n",
       "product_parent       0\n",
       "product_title        1\n",
       "star_rating          0\n",
       "helpful_votes        0\n",
       "total_votes          0\n",
       "vine                 0\n",
       "verified_purchase    0\n",
       "review_headline      2\n",
       "review_body          5\n",
       "review_date          0\n",
       "review_length        0\n",
       "dtype: int64"
      ]
     },
     "execution_count": 21,
     "metadata": {},
     "output_type": "execute_result"
    }
   ],
   "source": [
    "df_original.isna().sum()"
   ]
  },
  {
   "cell_type": "code",
   "execution_count": 22,
   "id": "f3e6bd90",
   "metadata": {},
   "outputs": [
    {
     "data": {
      "text/html": [
       "<div>\n",
       "<style scoped>\n",
       "    .dataframe tbody tr th:only-of-type {\n",
       "        vertical-align: middle;\n",
       "    }\n",
       "\n",
       "    .dataframe tbody tr th {\n",
       "        vertical-align: top;\n",
       "    }\n",
       "\n",
       "    .dataframe thead th {\n",
       "        text-align: right;\n",
       "    }\n",
       "</style>\n",
       "<table border=\"1\" class=\"dataframe\">\n",
       "  <thead>\n",
       "    <tr style=\"text-align: right;\">\n",
       "      <th></th>\n",
       "      <th>customer_id</th>\n",
       "      <th>product_id</th>\n",
       "      <th>product_parent</th>\n",
       "      <th>product_title</th>\n",
       "      <th>star_rating</th>\n",
       "      <th>helpful_votes</th>\n",
       "      <th>total_votes</th>\n",
       "      <th>vine</th>\n",
       "      <th>verified_purchase</th>\n",
       "      <th>review_headline</th>\n",
       "      <th>review_body</th>\n",
       "      <th>review_date</th>\n",
       "      <th>review_length</th>\n",
       "    </tr>\n",
       "  </thead>\n",
       "  <tbody>\n",
       "    <tr>\n",
       "      <th>24620</th>\n",
       "      <td>875180</td>\n",
       "      <td>B00H0Q31SA</td>\n",
       "      <td>427266057</td>\n",
       "      <td>ShowerSong Wireless Bluetooth Shower Speaker</td>\n",
       "      <td>5.0</td>\n",
       "      <td>0.0</td>\n",
       "      <td>0.0</td>\n",
       "      <td>N</td>\n",
       "      <td>Y</td>\n",
       "      <td>Five Stars</td>\n",
       "      <td>NaN</td>\n",
       "      <td>2014-12-03</td>\n",
       "      <td>3</td>\n",
       "    </tr>\n",
       "    <tr>\n",
       "      <th>83755</th>\n",
       "      <td>774858</td>\n",
       "      <td>B0137R6C90</td>\n",
       "      <td>111234782</td>\n",
       "      <td>ioi Works Stainless Steel French Press - Insul...</td>\n",
       "      <td>5.0</td>\n",
       "      <td>0.0</td>\n",
       "      <td>0.0</td>\n",
       "      <td>N</td>\n",
       "      <td>N</td>\n",
       "      <td>Sleek and shiny press!</td>\n",
       "      <td>NaN</td>\n",
       "      <td>2015-08-28</td>\n",
       "      <td>3</td>\n",
       "    </tr>\n",
       "    <tr>\n",
       "      <th>125577</th>\n",
       "      <td>8494820</td>\n",
       "      <td>B00TM7CZT6</td>\n",
       "      <td>572532657</td>\n",
       "      <td>Simply Dog White Bunny Character Hoodie, Size M</td>\n",
       "      <td>5.0</td>\n",
       "      <td>0.0</td>\n",
       "      <td>0.0</td>\n",
       "      <td>N</td>\n",
       "      <td>Y</td>\n",
       "      <td>Five Stars</td>\n",
       "      <td>NaN</td>\n",
       "      <td>2015-04-07</td>\n",
       "      <td>3</td>\n",
       "    </tr>\n",
       "    <tr>\n",
       "      <th>145688</th>\n",
       "      <td>11773438</td>\n",
       "      <td>B00RMF1CMQ</td>\n",
       "      <td>723514794</td>\n",
       "      <td>E-MODS GAMING® Xbox One Original WHITE&amp;LIGHT P...</td>\n",
       "      <td>1.0</td>\n",
       "      <td>6.0</td>\n",
       "      <td>8.0</td>\n",
       "      <td>N</td>\n",
       "      <td>Y</td>\n",
       "      <td>very disappointed</td>\n",
       "      <td>NaN</td>\n",
       "      <td>2015-07-29</td>\n",
       "      <td>3</td>\n",
       "    </tr>\n",
       "    <tr>\n",
       "      <th>145984</th>\n",
       "      <td>48136609</td>\n",
       "      <td>B00KF7BE7G</td>\n",
       "      <td>933463177</td>\n",
       "      <td>Metro Redux - Xbox One</td>\n",
       "      <td>5.0</td>\n",
       "      <td>0.0</td>\n",
       "      <td>0.0</td>\n",
       "      <td>N</td>\n",
       "      <td>Y</td>\n",
       "      <td>Five Stars</td>\n",
       "      <td>NaN</td>\n",
       "      <td>2015-07-31</td>\n",
       "      <td>3</td>\n",
       "    </tr>\n",
       "  </tbody>\n",
       "</table>\n",
       "</div>"
      ],
      "text/plain": [
       "        customer_id  product_id  product_parent  \\\n",
       "24620        875180  B00H0Q31SA       427266057   \n",
       "83755        774858  B0137R6C90       111234782   \n",
       "125577      8494820  B00TM7CZT6       572532657   \n",
       "145688     11773438  B00RMF1CMQ       723514794   \n",
       "145984     48136609  B00KF7BE7G       933463177   \n",
       "\n",
       "                                            product_title  star_rating  \\\n",
       "24620        ShowerSong Wireless Bluetooth Shower Speaker          5.0   \n",
       "83755   ioi Works Stainless Steel French Press - Insul...          5.0   \n",
       "125577    Simply Dog White Bunny Character Hoodie, Size M          5.0   \n",
       "145688  E-MODS GAMING® Xbox One Original WHITE&LIGHT P...          1.0   \n",
       "145984                             Metro Redux - Xbox One          5.0   \n",
       "\n",
       "        helpful_votes  total_votes vine verified_purchase  \\\n",
       "24620             0.0          0.0    N                 Y   \n",
       "83755             0.0          0.0    N                 N   \n",
       "125577            0.0          0.0    N                 Y   \n",
       "145688            6.0          8.0    N                 Y   \n",
       "145984            0.0          0.0    N                 Y   \n",
       "\n",
       "               review_headline review_body review_date  review_length  \n",
       "24620               Five Stars         NaN  2014-12-03              3  \n",
       "83755   Sleek and shiny press!         NaN  2015-08-28              3  \n",
       "125577              Five Stars         NaN  2015-04-07              3  \n",
       "145688       very disappointed         NaN  2015-07-29              3  \n",
       "145984              Five Stars         NaN  2015-07-31              3  "
      ]
     },
     "execution_count": 22,
     "metadata": {},
     "output_type": "execute_result"
    }
   ],
   "source": [
    "df_original[df_original['review_body'].isna()]"
   ]
  },
  {
   "cell_type": "code",
   "execution_count": 23,
   "id": "d58c0c36",
   "metadata": {},
   "outputs": [
    {
     "data": {
      "text/plain": [
       "Great                                                                                                                                                                                                220\n",
       "good                                                                                                                                                                                                 185\n",
       "Good                                                                                                                                                                                                 164\n",
       "great                                                                                                                                                                                                151\n",
       "Excellent                                                                                                                                                                                            114\n",
       "                                                                                                                                                                                                    ... \n",
       "This was too spicy for my taste. Just not as good as others I have used.                                                                                                                               1\n",
       "High quality seeds. Love em                                                                                                                                                                            1\n",
       "I am So glad that I found these here in the States.  I had them in Australia (different brand but the same) but couldn't get them here.  These are just like the ones I had there.......YUMMY!!!!      1\n",
       "Will buy again, great substitute for regular Bisquick. Much better price than buying in store.                                                                                                         1\n",
       "I finished this very stylus intensive game called Kid Icarus entirely with this screen filter on and it has NO scratches! very good!                                                                   1\n",
       "Name: review_body, Length: 142537, dtype: int64"
      ]
     },
     "execution_count": 23,
     "metadata": {},
     "output_type": "execute_result"
    }
   ],
   "source": [
    "df_original['review_body'].value_counts()"
   ]
  },
  {
   "cell_type": "code",
   "execution_count": 24,
   "id": "277fa7af",
   "metadata": {},
   "outputs": [],
   "source": [
    "df_original = df_original.dropna(subset=['review_body'])"
   ]
  },
  {
   "cell_type": "markdown",
   "id": "882eddef",
   "metadata": {},
   "source": [
    "### Cleaning data for review_headline"
   ]
  },
  {
   "cell_type": "code",
   "execution_count": 25,
   "id": "30d7f500",
   "metadata": {},
   "outputs": [
    {
     "data": {
      "text/html": [
       "<div>\n",
       "<style scoped>\n",
       "    .dataframe tbody tr th:only-of-type {\n",
       "        vertical-align: middle;\n",
       "    }\n",
       "\n",
       "    .dataframe tbody tr th {\n",
       "        vertical-align: top;\n",
       "    }\n",
       "\n",
       "    .dataframe thead th {\n",
       "        text-align: right;\n",
       "    }\n",
       "</style>\n",
       "<table border=\"1\" class=\"dataframe\">\n",
       "  <thead>\n",
       "    <tr style=\"text-align: right;\">\n",
       "      <th></th>\n",
       "      <th>customer_id</th>\n",
       "      <th>product_id</th>\n",
       "      <th>product_parent</th>\n",
       "      <th>product_title</th>\n",
       "      <th>star_rating</th>\n",
       "      <th>helpful_votes</th>\n",
       "      <th>total_votes</th>\n",
       "      <th>vine</th>\n",
       "      <th>verified_purchase</th>\n",
       "      <th>review_headline</th>\n",
       "      <th>review_body</th>\n",
       "      <th>review_date</th>\n",
       "      <th>review_length</th>\n",
       "    </tr>\n",
       "  </thead>\n",
       "  <tbody>\n",
       "    <tr>\n",
       "      <th>69486</th>\n",
       "      <td>19698637</td>\n",
       "      <td>B0024VBK02</td>\n",
       "      <td>588064063</td>\n",
       "      <td>Dial A Slice Apple Corer &amp; Wedger</td>\n",
       "      <td>5.0</td>\n",
       "      <td>0.0</td>\n",
       "      <td>0.0</td>\n",
       "      <td>N</td>\n",
       "      <td>Y</td>\n",
       "      <td>NaN</td>\n",
       "      <td>Is great in changing size of slices of a varie...</td>\n",
       "      <td>2010-02-21</td>\n",
       "      <td>116</td>\n",
       "    </tr>\n",
       "    <tr>\n",
       "      <th>102383</th>\n",
       "      <td>31635715</td>\n",
       "      <td>B002HWS7B8</td>\n",
       "      <td>375119323</td>\n",
       "      <td>Cavatelli Maker Machine w Easy Clean Rollers- ...</td>\n",
       "      <td>2.0</td>\n",
       "      <td>0.0</td>\n",
       "      <td>2.0</td>\n",
       "      <td>N</td>\n",
       "      <td>N</td>\n",
       "      <td>NaN</td>\n",
       "      <td>Good price, but it not respond on my expectati...</td>\n",
       "      <td>2012-11-27</td>\n",
       "      <td>124</td>\n",
       "    </tr>\n",
       "  </tbody>\n",
       "</table>\n",
       "</div>"
      ],
      "text/plain": [
       "        customer_id  product_id  product_parent  \\\n",
       "69486      19698637  B0024VBK02       588064063   \n",
       "102383     31635715  B002HWS7B8       375119323   \n",
       "\n",
       "                                            product_title  star_rating  \\\n",
       "69486                   Dial A Slice Apple Corer & Wedger          5.0   \n",
       "102383  Cavatelli Maker Machine w Easy Clean Rollers- ...          2.0   \n",
       "\n",
       "        helpful_votes  total_votes vine verified_purchase review_headline  \\\n",
       "69486             0.0          0.0    N                 Y             NaN   \n",
       "102383            0.0          2.0    N                 N             NaN   \n",
       "\n",
       "                                              review_body review_date  \\\n",
       "69486   Is great in changing size of slices of a varie...  2010-02-21   \n",
       "102383  Good price, but it not respond on my expectati...  2012-11-27   \n",
       "\n",
       "        review_length  \n",
       "69486             116  \n",
       "102383            124  "
      ]
     },
     "execution_count": 25,
     "metadata": {},
     "output_type": "execute_result"
    }
   ],
   "source": [
    "df_original[df_original['review_headline'].isna()]"
   ]
  },
  {
   "cell_type": "code",
   "execution_count": 26,
   "id": "23a66b84",
   "metadata": {},
   "outputs": [
    {
     "data": {
      "text/plain": [
       "Five Stars                      17734\n",
       "Four Stars                       2952\n",
       "One Star                         1427\n",
       "Three Stars                      1373\n",
       "Two Stars                         752\n",
       "                                ...  \n",
       "Chille powders from heaven !        1\n",
       "memories                            1\n",
       "Fantastic Drink Brand               1\n",
       "The Best Coconut water              1\n",
       "simply awesome!                     1\n",
       "Name: review_headline, Length: 99448, dtype: int64"
      ]
     },
     "execution_count": 26,
     "metadata": {},
     "output_type": "execute_result"
    }
   ],
   "source": [
    "df_original['review_headline'].value_counts()"
   ]
  },
  {
   "cell_type": "code",
   "execution_count": 27,
   "id": "19bccb18",
   "metadata": {},
   "outputs": [],
   "source": [
    "df_original = df_original.dropna(subset=['review_headline'])\n",
    "# In case we wanted to deal with the nan values by normalising the data we would than normalise it with the top 3 headlines\n",
    "#df['review_headline'].fillna('Four Stars', inplace = True)"
   ]
  },
  {
   "cell_type": "markdown",
   "id": "fb240694",
   "metadata": {},
   "source": [
    "### Cleaning review_date"
   ]
  },
  {
   "cell_type": "code",
   "execution_count": 28,
   "id": "e766d737",
   "metadata": {},
   "outputs": [
    {
     "data": {
      "text/html": [
       "<div>\n",
       "<style scoped>\n",
       "    .dataframe tbody tr th:only-of-type {\n",
       "        vertical-align: middle;\n",
       "    }\n",
       "\n",
       "    .dataframe tbody tr th {\n",
       "        vertical-align: top;\n",
       "    }\n",
       "\n",
       "    .dataframe thead th {\n",
       "        text-align: right;\n",
       "    }\n",
       "</style>\n",
       "<table border=\"1\" class=\"dataframe\">\n",
       "  <thead>\n",
       "    <tr style=\"text-align: right;\">\n",
       "      <th></th>\n",
       "      <th>customer_id</th>\n",
       "      <th>product_id</th>\n",
       "      <th>product_parent</th>\n",
       "      <th>product_title</th>\n",
       "      <th>star_rating</th>\n",
       "      <th>helpful_votes</th>\n",
       "      <th>total_votes</th>\n",
       "      <th>vine</th>\n",
       "      <th>verified_purchase</th>\n",
       "      <th>review_headline</th>\n",
       "      <th>review_body</th>\n",
       "      <th>review_date</th>\n",
       "      <th>review_length</th>\n",
       "    </tr>\n",
       "  </thead>\n",
       "  <tbody>\n",
       "  </tbody>\n",
       "</table>\n",
       "</div>"
      ],
      "text/plain": [
       "Empty DataFrame\n",
       "Columns: [customer_id, product_id, product_parent, product_title, star_rating, helpful_votes, total_votes, vine, verified_purchase, review_headline, review_body, review_date, review_length]\n",
       "Index: []"
      ]
     },
     "execution_count": 28,
     "metadata": {},
     "output_type": "execute_result"
    }
   ],
   "source": [
    "df_original[df_original['review_date'].isna()]"
   ]
  },
  {
   "cell_type": "code",
   "execution_count": 29,
   "id": "871fdfe1",
   "metadata": {},
   "outputs": [
    {
     "data": {
      "text/plain": [
       "2015-01-05    302\n",
       "2015-01-04    270\n",
       "2015-01-09    269\n",
       "2015-06-03    266\n",
       "2015-08-04    265\n",
       "             ... \n",
       "2003-09-01      1\n",
       "2002-10-30      1\n",
       "2005-07-09      1\n",
       "2006-02-16      1\n",
       "2000-07-20      1\n",
       "Name: review_date, Length: 5181, dtype: int64"
      ]
     },
     "execution_count": 29,
     "metadata": {},
     "output_type": "execute_result"
    }
   ],
   "source": [
    "df_original['review_date'].value_counts()"
   ]
  },
  {
   "cell_type": "code",
   "execution_count": 30,
   "id": "d72842ed",
   "metadata": {},
   "outputs": [],
   "source": [
    "df_original = df_original.dropna(subset=['review_date'])"
   ]
  },
  {
   "cell_type": "code",
   "execution_count": 31,
   "id": "e2983322",
   "metadata": {},
   "outputs": [
    {
     "data": {
      "text/html": [
       "<div>\n",
       "<style scoped>\n",
       "    .dataframe tbody tr th:only-of-type {\n",
       "        vertical-align: middle;\n",
       "    }\n",
       "\n",
       "    .dataframe tbody tr th {\n",
       "        vertical-align: top;\n",
       "    }\n",
       "\n",
       "    .dataframe thead th {\n",
       "        text-align: right;\n",
       "    }\n",
       "</style>\n",
       "<table border=\"1\" class=\"dataframe\">\n",
       "  <thead>\n",
       "    <tr style=\"text-align: right;\">\n",
       "      <th></th>\n",
       "      <th>customer_id</th>\n",
       "      <th>product_id</th>\n",
       "      <th>product_parent</th>\n",
       "      <th>product_title</th>\n",
       "      <th>star_rating</th>\n",
       "      <th>helpful_votes</th>\n",
       "      <th>total_votes</th>\n",
       "      <th>vine</th>\n",
       "      <th>verified_purchase</th>\n",
       "      <th>review_headline</th>\n",
       "      <th>review_body</th>\n",
       "      <th>review_date</th>\n",
       "      <th>review_length</th>\n",
       "    </tr>\n",
       "  </thead>\n",
       "  <tbody>\n",
       "  </tbody>\n",
       "</table>\n",
       "</div>"
      ],
      "text/plain": [
       "Empty DataFrame\n",
       "Columns: [customer_id, product_id, product_parent, product_title, star_rating, helpful_votes, total_votes, vine, verified_purchase, review_headline, review_body, review_date, review_length]\n",
       "Index: []"
      ]
     },
     "execution_count": 31,
     "metadata": {},
     "output_type": "execute_result"
    }
   ],
   "source": [
    "df_original[df_original['review_date'].isna()]"
   ]
  },
  {
   "cell_type": "markdown",
   "id": "cca00fae",
   "metadata": {},
   "source": [
    "### Cleaning product_title"
   ]
  },
  {
   "cell_type": "code",
   "execution_count": 32,
   "id": "882f946b",
   "metadata": {},
   "outputs": [
    {
     "data": {
      "text/html": [
       "<div>\n",
       "<style scoped>\n",
       "    .dataframe tbody tr th:only-of-type {\n",
       "        vertical-align: middle;\n",
       "    }\n",
       "\n",
       "    .dataframe tbody tr th {\n",
       "        vertical-align: top;\n",
       "    }\n",
       "\n",
       "    .dataframe thead th {\n",
       "        text-align: right;\n",
       "    }\n",
       "</style>\n",
       "<table border=\"1\" class=\"dataframe\">\n",
       "  <thead>\n",
       "    <tr style=\"text-align: right;\">\n",
       "      <th></th>\n",
       "      <th>customer_id</th>\n",
       "      <th>product_id</th>\n",
       "      <th>product_parent</th>\n",
       "      <th>product_title</th>\n",
       "      <th>star_rating</th>\n",
       "      <th>helpful_votes</th>\n",
       "      <th>total_votes</th>\n",
       "      <th>vine</th>\n",
       "      <th>verified_purchase</th>\n",
       "      <th>review_headline</th>\n",
       "      <th>review_body</th>\n",
       "      <th>review_date</th>\n",
       "      <th>review_length</th>\n",
       "    </tr>\n",
       "  </thead>\n",
       "  <tbody>\n",
       "    <tr>\n",
       "      <th>102416</th>\n",
       "      <td>15213681</td>\n",
       "      <td>B000J3S7SA</td>\n",
       "      <td>970698123</td>\n",
       "      <td>NaN</td>\n",
       "      <td>5.0</td>\n",
       "      <td>0.0</td>\n",
       "      <td>0.0</td>\n",
       "      <td>N</td>\n",
       "      <td>N</td>\n",
       "      <td>A satisfied user</td>\n",
       "      <td>I just received this crockpot as a gift.  I lo...</td>\n",
       "      <td>2007-03-01</td>\n",
       "      <td>187</td>\n",
       "    </tr>\n",
       "  </tbody>\n",
       "</table>\n",
       "</div>"
      ],
      "text/plain": [
       "        customer_id  product_id  product_parent product_title  star_rating  \\\n",
       "102416     15213681  B000J3S7SA       970698123           NaN          5.0   \n",
       "\n",
       "        helpful_votes  total_votes vine verified_purchase   review_headline  \\\n",
       "102416            0.0          0.0    N                 N  A satisfied user   \n",
       "\n",
       "                                              review_body review_date  \\\n",
       "102416  I just received this crockpot as a gift.  I lo...  2007-03-01   \n",
       "\n",
       "        review_length  \n",
       "102416            187  "
      ]
     },
     "execution_count": 32,
     "metadata": {},
     "output_type": "execute_result"
    }
   ],
   "source": [
    "df_original[df_original['product_title'].isna()]"
   ]
  },
  {
   "cell_type": "code",
   "execution_count": 33,
   "id": "4d5c0a36",
   "metadata": {},
   "outputs": [
    {
     "data": {
      "text/plain": [
       "Panasonic ErgoFit In-Ear Earbud Headphone                                                                             229\n",
       "San Francisco Bay One Cup                                                                                             166\n",
       "Mediabridge ULTRA Series HDMI Cable (3 Foot) - High-Speed Supports Ethernet, 3D and Audio Return [Newest Standard]    157\n",
       "AmazonBasics High-Speed HDMI Cable - 6.5 Feet (2 Meters) Supports Ethernet, 3D, 4K and Audio Return                   155\n",
       "AmazonBasics High Speed HDMI Cable                                                                                    116\n",
       "                                                                                                                     ... \n",
       "Juiceman Jr. Elite Pro JM211 Juice Extractor                                                                            1\n",
       "Simply Charmed Wine Glass Charms, Set of 6 Fun Magnetic Wine Theme Drink Markers and Tags                               1\n",
       "Certified International Botanical Birds Pitcher, 2-1/2-Quart                                                            1\n",
       "Seasons Boutique Garlic Twist Clear/Blue                                                                                1\n",
       "Tom Clancy's Ghost Recon Advanced Warfighter 2                                                                          1\n",
       "Name: product_title, Length: 76686, dtype: int64"
      ]
     },
     "execution_count": 33,
     "metadata": {},
     "output_type": "execute_result"
    }
   ],
   "source": [
    "df_original['product_title'].value_counts()"
   ]
  },
  {
   "cell_type": "code",
   "execution_count": 34,
   "id": "52f5519b",
   "metadata": {},
   "outputs": [],
   "source": [
    "df_original = df_original.dropna(subset=['product_title'])"
   ]
  },
  {
   "cell_type": "code",
   "execution_count": 35,
   "id": "b1a1902a",
   "metadata": {},
   "outputs": [
    {
     "data": {
      "text/html": [
       "<div>\n",
       "<style scoped>\n",
       "    .dataframe tbody tr th:only-of-type {\n",
       "        vertical-align: middle;\n",
       "    }\n",
       "\n",
       "    .dataframe tbody tr th {\n",
       "        vertical-align: top;\n",
       "    }\n",
       "\n",
       "    .dataframe thead th {\n",
       "        text-align: right;\n",
       "    }\n",
       "</style>\n",
       "<table border=\"1\" class=\"dataframe\">\n",
       "  <thead>\n",
       "    <tr style=\"text-align: right;\">\n",
       "      <th></th>\n",
       "      <th>customer_id</th>\n",
       "      <th>product_id</th>\n",
       "      <th>product_parent</th>\n",
       "      <th>product_title</th>\n",
       "      <th>star_rating</th>\n",
       "      <th>helpful_votes</th>\n",
       "      <th>total_votes</th>\n",
       "      <th>vine</th>\n",
       "      <th>verified_purchase</th>\n",
       "      <th>review_headline</th>\n",
       "      <th>review_body</th>\n",
       "      <th>review_date</th>\n",
       "      <th>review_length</th>\n",
       "    </tr>\n",
       "  </thead>\n",
       "  <tbody>\n",
       "  </tbody>\n",
       "</table>\n",
       "</div>"
      ],
      "text/plain": [
       "Empty DataFrame\n",
       "Columns: [customer_id, product_id, product_parent, product_title, star_rating, helpful_votes, total_votes, vine, verified_purchase, review_headline, review_body, review_date, review_length]\n",
       "Index: []"
      ]
     },
     "execution_count": 35,
     "metadata": {},
     "output_type": "execute_result"
    }
   ],
   "source": [
    "df_original[df_original['review_date'].isna()]"
   ]
  },
  {
   "cell_type": "markdown",
   "id": "bcc67439",
   "metadata": {},
   "source": [
    "## Checking the nan values in the data"
   ]
  },
  {
   "cell_type": "code",
   "execution_count": 36,
   "id": "8dea6c93",
   "metadata": {
    "scrolled": true
   },
   "outputs": [
    {
     "data": {
      "text/plain": [
       "customer_id          0\n",
       "product_id           0\n",
       "product_parent       0\n",
       "product_title        0\n",
       "star_rating          0\n",
       "helpful_votes        0\n",
       "total_votes          0\n",
       "vine                 0\n",
       "verified_purchase    0\n",
       "review_headline      0\n",
       "review_body          0\n",
       "review_date          0\n",
       "review_length        0\n",
       "dtype: int64"
      ]
     },
     "execution_count": 36,
     "metadata": {},
     "output_type": "execute_result"
    }
   ],
   "source": [
    "df_original.isna().sum()"
   ]
  },
  {
   "cell_type": "markdown",
   "id": "3aef3062",
   "metadata": {},
   "source": [
    "## Changing review_date to date type"
   ]
  },
  {
   "cell_type": "code",
   "execution_count": 37,
   "id": "e0885d51",
   "metadata": {},
   "outputs": [],
   "source": [
    "df_original[\"review_date\"] = pd.to_datetime(df_original[\"review_date\"]).dt.date\n"
   ]
  },
  {
   "cell_type": "markdown",
   "id": "a838e68f",
   "metadata": {},
   "source": [
    "### changing values in vine and verified_purchase"
   ]
  },
  {
   "cell_type": "code",
   "execution_count": 38,
   "id": "5e8c2012",
   "metadata": {},
   "outputs": [],
   "source": [
    "# df_original['verified_purchase'] = df_original['verified_purchase'].replace(['Y'],'Yes')\n",
    "# df_original['verified_purchase'] = df_original['verified_purchase'].replace(['N'],'No')\n",
    "#df_subset_rating_formatted['verified_purchase'] = df_subset_rating_formatted['verified_purchase'].replace(['Y'],'Yes')\n",
    "#df_subset_rating_formatted['verified_purchase'] = df_subset_rating_formatted['verified_purchase'].replace(['N'],'No')"
   ]
  },
  {
   "cell_type": "code",
   "execution_count": 39,
   "id": "1262ab2b",
   "metadata": {},
   "outputs": [],
   "source": [
    "# df_original['vine'] = df_original['vine'].replace(['Y'],'Yes')\n",
    "# df_original['vine'] = df_original['vine'].replace(['N'],'No')\n",
    "#df_subset_rating_formatted['vine'] = df_original['vine'].replace(['Y'],'Yes')\n",
    "#df_subset_rating_formatted['vine'] = df_original['vine'].replace(['N'],'No')"
   ]
  },
  {
   "cell_type": "code",
   "execution_count": 40,
   "id": "dff8106e",
   "metadata": {},
   "outputs": [
    {
     "data": {
      "text/html": [
       "<div>\n",
       "<style scoped>\n",
       "    .dataframe tbody tr th:only-of-type {\n",
       "        vertical-align: middle;\n",
       "    }\n",
       "\n",
       "    .dataframe tbody tr th {\n",
       "        vertical-align: top;\n",
       "    }\n",
       "\n",
       "    .dataframe thead th {\n",
       "        text-align: right;\n",
       "    }\n",
       "</style>\n",
       "<table border=\"1\" class=\"dataframe\">\n",
       "  <thead>\n",
       "    <tr style=\"text-align: right;\">\n",
       "      <th></th>\n",
       "      <th>customer_id</th>\n",
       "      <th>product_id</th>\n",
       "      <th>product_parent</th>\n",
       "      <th>product_title</th>\n",
       "      <th>star_rating</th>\n",
       "      <th>helpful_votes</th>\n",
       "      <th>total_votes</th>\n",
       "      <th>vine</th>\n",
       "      <th>verified_purchase</th>\n",
       "      <th>review_headline</th>\n",
       "      <th>review_body</th>\n",
       "      <th>review_date</th>\n",
       "      <th>review_length</th>\n",
       "    </tr>\n",
       "  </thead>\n",
       "  <tbody>\n",
       "    <tr>\n",
       "      <th>0</th>\n",
       "      <td>50654080</td>\n",
       "      <td>B00094OX2S</td>\n",
       "      <td>784696562</td>\n",
       "      <td>APC UPS Replacement Battery Cartridge for APC ...</td>\n",
       "      <td>1.0</td>\n",
       "      <td>0.0</td>\n",
       "      <td>0.0</td>\n",
       "      <td>N</td>\n",
       "      <td>N</td>\n",
       "      <td>Don't Buy APC Brand Replacement Batteries!!!</td>\n",
       "      <td>The super expensive RBC32 batteries I've been ...</td>\n",
       "      <td>2014-10-12</td>\n",
       "      <td>4863</td>\n",
       "    </tr>\n",
       "    <tr>\n",
       "      <th>1</th>\n",
       "      <td>15678628</td>\n",
       "      <td>B00M6Q9W50</td>\n",
       "      <td>69036016</td>\n",
       "      <td>Buyit? Waterproof Wireless Bluetooth Shower Sp...</td>\n",
       "      <td>2.0</td>\n",
       "      <td>0.0</td>\n",
       "      <td>0.0</td>\n",
       "      <td>N</td>\n",
       "      <td>Y</td>\n",
       "      <td>Disappointed. Not as loud as I'd like</td>\n",
       "      <td>Disappointed. Not as loud as I'd like. Didn't ...</td>\n",
       "      <td>2015-02-25</td>\n",
       "      <td>168</td>\n",
       "    </tr>\n",
       "    <tr>\n",
       "      <th>2</th>\n",
       "      <td>15010771</td>\n",
       "      <td>B00DWD4LGG</td>\n",
       "      <td>86013178</td>\n",
       "      <td>Soundcast BlueCast - Bluetooth Wireless Transm...</td>\n",
       "      <td>5.0</td>\n",
       "      <td>2.0</td>\n",
       "      <td>2.0</td>\n",
       "      <td>N</td>\n",
       "      <td>Y</td>\n",
       "      <td>Great addition to a great speaker system</td>\n",
       "      <td>its awesome, works flawlessly, can now stream ...</td>\n",
       "      <td>2013-10-18</td>\n",
       "      <td>261</td>\n",
       "    </tr>\n",
       "    <tr>\n",
       "      <th>3</th>\n",
       "      <td>52975411</td>\n",
       "      <td>B00D5Q75RC</td>\n",
       "      <td>945049581</td>\n",
       "      <td>Bose SoundLink Mini Bluetooth Speaker</td>\n",
       "      <td>5.0</td>\n",
       "      <td>0.0</td>\n",
       "      <td>0.0</td>\n",
       "      <td>N</td>\n",
       "      <td>Y</td>\n",
       "      <td>Five Stars</td>\n",
       "      <td>Awesome big sound out of a small package.  Hig...</td>\n",
       "      <td>2014-08-31</td>\n",
       "      <td>60</td>\n",
       "    </tr>\n",
       "    <tr>\n",
       "      <th>4</th>\n",
       "      <td>10184046</td>\n",
       "      <td>B001TH7T2U</td>\n",
       "      <td>626749398</td>\n",
       "      <td>AmazonBasics HDMI to DVI  Adapter Cable - 9.8 ...</td>\n",
       "      <td>5.0</td>\n",
       "      <td>0.0</td>\n",
       "      <td>0.0</td>\n",
       "      <td>N</td>\n",
       "      <td>Y</td>\n",
       "      <td>HDMI to DVI</td>\n",
       "      <td>this is very comparable to the unit at Best Bu...</td>\n",
       "      <td>2013-04-05</td>\n",
       "      <td>127</td>\n",
       "    </tr>\n",
       "    <tr>\n",
       "      <th>...</th>\n",
       "      <td>...</td>\n",
       "      <td>...</td>\n",
       "      <td>...</td>\n",
       "      <td>...</td>\n",
       "      <td>...</td>\n",
       "      <td>...</td>\n",
       "      <td>...</td>\n",
       "      <td>...</td>\n",
       "      <td>...</td>\n",
       "      <td>...</td>\n",
       "      <td>...</td>\n",
       "      <td>...</td>\n",
       "      <td>...</td>\n",
       "    </tr>\n",
       "    <tr>\n",
       "      <th>95</th>\n",
       "      <td>31338821</td>\n",
       "      <td>B000MBUSD6</td>\n",
       "      <td>662906349</td>\n",
       "      <td>Sherwood RX-4109 200W Stereo Receiver – Black</td>\n",
       "      <td>5.0</td>\n",
       "      <td>1.0</td>\n",
       "      <td>1.0</td>\n",
       "      <td>N</td>\n",
       "      <td>Y</td>\n",
       "      <td>sounds great.</td>\n",
       "      <td>was exactly what I was looking for,sounds great.</td>\n",
       "      <td>2015-05-06</td>\n",
       "      <td>48</td>\n",
       "    </tr>\n",
       "    <tr>\n",
       "      <th>96</th>\n",
       "      <td>27271292</td>\n",
       "      <td>B002TZUOC8</td>\n",
       "      <td>712015504</td>\n",
       "      <td>VideoSecu Tilt Swivel Low profile (1.9\") TV Wa...</td>\n",
       "      <td>4.0</td>\n",
       "      <td>1.0</td>\n",
       "      <td>1.0</td>\n",
       "      <td>N</td>\n",
       "      <td>Y</td>\n",
       "      <td>Great Price. It you want to keep the TV ...</td>\n",
       "      <td>Great Price.  It you want to keep the TV at th...</td>\n",
       "      <td>2015-01-19</td>\n",
       "      <td>315</td>\n",
       "    </tr>\n",
       "    <tr>\n",
       "      <th>97</th>\n",
       "      <td>17401948</td>\n",
       "      <td>B0097BEDPG</td>\n",
       "      <td>869734493</td>\n",
       "      <td>Apple iPod nano 16GB (7th Generation)</td>\n",
       "      <td>5.0</td>\n",
       "      <td>1.0</td>\n",
       "      <td>1.0</td>\n",
       "      <td>N</td>\n",
       "      <td>Y</td>\n",
       "      <td>I finally gave in and bought an Ipod nano</td>\n",
       "      <td>I unfortunately purchased a 16 g  iPad.  That ...</td>\n",
       "      <td>2013-06-11</td>\n",
       "      <td>435</td>\n",
       "    </tr>\n",
       "    <tr>\n",
       "      <th>98</th>\n",
       "      <td>47273329</td>\n",
       "      <td>B0000510ZO</td>\n",
       "      <td>181286519</td>\n",
       "      <td>Cables To Go 18 AWG Universal Power Cord, IEC3...</td>\n",
       "      <td>5.0</td>\n",
       "      <td>0.0</td>\n",
       "      <td>0.0</td>\n",
       "      <td>N</td>\n",
       "      <td>Y</td>\n",
       "      <td>Fast delivery, good to use</td>\n",
       "      <td>I got a new adapter for my laptop (Dell precis...</td>\n",
       "      <td>2013-10-16</td>\n",
       "      <td>227</td>\n",
       "    </tr>\n",
       "    <tr>\n",
       "      <th>99</th>\n",
       "      <td>34273246</td>\n",
       "      <td>B00JAAJ1F6</td>\n",
       "      <td>374159046</td>\n",
       "      <td>Jarv NMotion Sport Wireless Bluetooth 4.0 Ster...</td>\n",
       "      <td>3.0</td>\n",
       "      <td>0.0</td>\n",
       "      <td>0.0</td>\n",
       "      <td>N</td>\n",
       "      <td>Y</td>\n",
       "      <td>Could be like the BlueAnt Pumps with a clip th...</td>\n",
       "      <td>Too long of a cord, had to use electrical tape...</td>\n",
       "      <td>2014-10-04</td>\n",
       "      <td>176</td>\n",
       "    </tr>\n",
       "  </tbody>\n",
       "</table>\n",
       "<p>100 rows × 13 columns</p>\n",
       "</div>"
      ],
      "text/plain": [
       "    customer_id  product_id  product_parent  \\\n",
       "0      50654080  B00094OX2S       784696562   \n",
       "1      15678628  B00M6Q9W50        69036016   \n",
       "2      15010771  B00DWD4LGG        86013178   \n",
       "3      52975411  B00D5Q75RC       945049581   \n",
       "4      10184046  B001TH7T2U       626749398   \n",
       "..          ...         ...             ...   \n",
       "95     31338821  B000MBUSD6       662906349   \n",
       "96     27271292  B002TZUOC8       712015504   \n",
       "97     17401948  B0097BEDPG       869734493   \n",
       "98     47273329  B0000510ZO       181286519   \n",
       "99     34273246  B00JAAJ1F6       374159046   \n",
       "\n",
       "                                        product_title  star_rating  \\\n",
       "0   APC UPS Replacement Battery Cartridge for APC ...          1.0   \n",
       "1   Buyit? Waterproof Wireless Bluetooth Shower Sp...          2.0   \n",
       "2   Soundcast BlueCast - Bluetooth Wireless Transm...          5.0   \n",
       "3               Bose SoundLink Mini Bluetooth Speaker          5.0   \n",
       "4   AmazonBasics HDMI to DVI  Adapter Cable - 9.8 ...          5.0   \n",
       "..                                                ...          ...   \n",
       "95      Sherwood RX-4109 200W Stereo Receiver – Black          5.0   \n",
       "96  VideoSecu Tilt Swivel Low profile (1.9\") TV Wa...          4.0   \n",
       "97              Apple iPod nano 16GB (7th Generation)          5.0   \n",
       "98  Cables To Go 18 AWG Universal Power Cord, IEC3...          5.0   \n",
       "99  Jarv NMotion Sport Wireless Bluetooth 4.0 Ster...          3.0   \n",
       "\n",
       "    helpful_votes  total_votes vine verified_purchase  \\\n",
       "0             0.0          0.0    N                 N   \n",
       "1             0.0          0.0    N                 Y   \n",
       "2             2.0          2.0    N                 Y   \n",
       "3             0.0          0.0    N                 Y   \n",
       "4             0.0          0.0    N                 Y   \n",
       "..            ...          ...  ...               ...   \n",
       "95            1.0          1.0    N                 Y   \n",
       "96            1.0          1.0    N                 Y   \n",
       "97            1.0          1.0    N                 Y   \n",
       "98            0.0          0.0    N                 Y   \n",
       "99            0.0          0.0    N                 Y   \n",
       "\n",
       "                                      review_headline  \\\n",
       "0        Don't Buy APC Brand Replacement Batteries!!!   \n",
       "1               Disappointed. Not as loud as I'd like   \n",
       "2            Great addition to a great speaker system   \n",
       "3                                          Five Stars   \n",
       "4                                         HDMI to DVI   \n",
       "..                                                ...   \n",
       "95                                      sounds great.   \n",
       "96        Great Price. It you want to keep the TV ...   \n",
       "97          I finally gave in and bought an Ipod nano   \n",
       "98                         Fast delivery, good to use   \n",
       "99  Could be like the BlueAnt Pumps with a clip th...   \n",
       "\n",
       "                                          review_body review_date  \\\n",
       "0   The super expensive RBC32 batteries I've been ...  2014-10-12   \n",
       "1   Disappointed. Not as loud as I'd like. Didn't ...  2015-02-25   \n",
       "2   its awesome, works flawlessly, can now stream ...  2013-10-18   \n",
       "3   Awesome big sound out of a small package.  Hig...  2014-08-31   \n",
       "4   this is very comparable to the unit at Best Bu...  2013-04-05   \n",
       "..                                                ...         ...   \n",
       "95   was exactly what I was looking for,sounds great.  2015-05-06   \n",
       "96  Great Price.  It you want to keep the TV at th...  2015-01-19   \n",
       "97  I unfortunately purchased a 16 g  iPad.  That ...  2013-06-11   \n",
       "98  I got a new adapter for my laptop (Dell precis...  2013-10-16   \n",
       "99  Too long of a cord, had to use electrical tape...  2014-10-04   \n",
       "\n",
       "    review_length  \n",
       "0            4863  \n",
       "1             168  \n",
       "2             261  \n",
       "3              60  \n",
       "4             127  \n",
       "..            ...  \n",
       "95             48  \n",
       "96            315  \n",
       "97            435  \n",
       "98            227  \n",
       "99            176  \n",
       "\n",
       "[100 rows x 13 columns]"
      ]
     },
     "execution_count": 40,
     "metadata": {},
     "output_type": "execute_result"
    }
   ],
   "source": [
    "df_original.head(100)"
   ]
  },
  {
   "cell_type": "markdown",
   "id": "41f81036",
   "metadata": {},
   "source": [
    "### Adding helpful_votes/total_votes column (most correlated)"
   ]
  },
  {
   "cell_type": "code",
   "execution_count": 41,
   "id": "5ba82a59",
   "metadata": {},
   "outputs": [],
   "source": [
    "df_original[\"help_vs_total\"] = df_original[\"helpful_votes\"]/df_original[\"total_votes\"]"
   ]
  },
  {
   "cell_type": "markdown",
   "id": "e0c0d30e",
   "metadata": {},
   "source": [
    "## Checking datatype in the dataset"
   ]
  },
  {
   "cell_type": "code",
   "execution_count": 42,
   "id": "4b4fee33",
   "metadata": {},
   "outputs": [
    {
     "data": {
      "text/plain": [
       "customer_id            int64\n",
       "product_id            object\n",
       "product_parent         int64\n",
       "product_title         object\n",
       "star_rating          float64\n",
       "helpful_votes        float64\n",
       "total_votes          float64\n",
       "vine                  object\n",
       "verified_purchase     object\n",
       "review_headline       object\n",
       "review_body           object\n",
       "review_date           object\n",
       "review_length          int64\n",
       "help_vs_total        float64\n",
       "dtype: object"
      ]
     },
     "execution_count": 42,
     "metadata": {},
     "output_type": "execute_result"
    }
   ],
   "source": [
    "df_original.dtypes\n",
    "# df_subset['verified_purchase'].value_counts()"
   ]
  },
  {
   "cell_type": "markdown",
   "id": "e1f7ce2b",
   "metadata": {},
   "source": [
    "### Changing columns to int data type"
   ]
  },
  {
   "cell_type": "code",
   "execution_count": 43,
   "id": "885c0fa2",
   "metadata": {
    "scrolled": true
   },
   "outputs": [],
   "source": [
    "df_original['product_parent'] = df_original['product_parent'].astype('int32')"
   ]
  },
  {
   "cell_type": "code",
   "execution_count": 44,
   "id": "2210efba",
   "metadata": {},
   "outputs": [
    {
     "data": {
      "text/html": [
       "<div>\n",
       "<style scoped>\n",
       "    .dataframe tbody tr th:only-of-type {\n",
       "        vertical-align: middle;\n",
       "    }\n",
       "\n",
       "    .dataframe tbody tr th {\n",
       "        vertical-align: top;\n",
       "    }\n",
       "\n",
       "    .dataframe thead th {\n",
       "        text-align: right;\n",
       "    }\n",
       "</style>\n",
       "<table border=\"1\" class=\"dataframe\">\n",
       "  <thead>\n",
       "    <tr style=\"text-align: right;\">\n",
       "      <th></th>\n",
       "      <th>customer_id</th>\n",
       "      <th>product_parent</th>\n",
       "      <th>star_rating</th>\n",
       "      <th>helpful_votes</th>\n",
       "      <th>total_votes</th>\n",
       "      <th>review_length</th>\n",
       "      <th>help_vs_total</th>\n",
       "    </tr>\n",
       "  </thead>\n",
       "  <tbody>\n",
       "    <tr>\n",
       "      <th>count</th>\n",
       "      <td>1.477870e+05</td>\n",
       "      <td>1.477870e+05</td>\n",
       "      <td>147787.000000</td>\n",
       "      <td>147787.000000</td>\n",
       "      <td>147787.000000</td>\n",
       "      <td>147787.000000</td>\n",
       "      <td>61061.000000</td>\n",
       "    </tr>\n",
       "    <tr>\n",
       "      <th>mean</th>\n",
       "      <td>2.885085e+07</td>\n",
       "      <td>5.014940e+08</td>\n",
       "      <td>4.164345</td>\n",
       "      <td>1.912496</td>\n",
       "      <td>2.467260</td>\n",
       "      <td>330.469162</td>\n",
       "      <td>0.718483</td>\n",
       "    </tr>\n",
       "    <tr>\n",
       "      <th>std</th>\n",
       "      <td>1.529075e+07</td>\n",
       "      <td>2.886235e+08</td>\n",
       "      <td>1.315018</td>\n",
       "      <td>14.248355</td>\n",
       "      <td>15.672814</td>\n",
       "      <td>589.711556</td>\n",
       "      <td>0.376537</td>\n",
       "    </tr>\n",
       "    <tr>\n",
       "      <th>min</th>\n",
       "      <td>1.049700e+04</td>\n",
       "      <td>1.376400e+04</td>\n",
       "      <td>1.000000</td>\n",
       "      <td>0.000000</td>\n",
       "      <td>0.000000</td>\n",
       "      <td>1.000000</td>\n",
       "      <td>0.000000</td>\n",
       "    </tr>\n",
       "    <tr>\n",
       "      <th>25%</th>\n",
       "      <td>1.515149e+07</td>\n",
       "      <td>2.518732e+08</td>\n",
       "      <td>4.000000</td>\n",
       "      <td>0.000000</td>\n",
       "      <td>0.000000</td>\n",
       "      <td>95.000000</td>\n",
       "      <td>0.500000</td>\n",
       "    </tr>\n",
       "    <tr>\n",
       "      <th>50%</th>\n",
       "      <td>2.815089e+07</td>\n",
       "      <td>5.011923e+08</td>\n",
       "      <td>5.000000</td>\n",
       "      <td>0.000000</td>\n",
       "      <td>0.000000</td>\n",
       "      <td>173.000000</td>\n",
       "      <td>1.000000</td>\n",
       "    </tr>\n",
       "    <tr>\n",
       "      <th>75%</th>\n",
       "      <td>4.320705e+07</td>\n",
       "      <td>7.510194e+08</td>\n",
       "      <td>5.000000</td>\n",
       "      <td>1.000000</td>\n",
       "      <td>1.000000</td>\n",
       "      <td>363.000000</td>\n",
       "      <td>1.000000</td>\n",
       "    </tr>\n",
       "    <tr>\n",
       "      <th>max</th>\n",
       "      <td>5.309640e+07</td>\n",
       "      <td>9.999911e+08</td>\n",
       "      <td>5.000000</td>\n",
       "      <td>1829.000000</td>\n",
       "      <td>2047.000000</td>\n",
       "      <td>37039.000000</td>\n",
       "      <td>1.000000</td>\n",
       "    </tr>\n",
       "  </tbody>\n",
       "</table>\n",
       "</div>"
      ],
      "text/plain": [
       "        customer_id  product_parent    star_rating  helpful_votes  \\\n",
       "count  1.477870e+05    1.477870e+05  147787.000000  147787.000000   \n",
       "mean   2.885085e+07    5.014940e+08       4.164345       1.912496   \n",
       "std    1.529075e+07    2.886235e+08       1.315018      14.248355   \n",
       "min    1.049700e+04    1.376400e+04       1.000000       0.000000   \n",
       "25%    1.515149e+07    2.518732e+08       4.000000       0.000000   \n",
       "50%    2.815089e+07    5.011923e+08       5.000000       0.000000   \n",
       "75%    4.320705e+07    7.510194e+08       5.000000       1.000000   \n",
       "max    5.309640e+07    9.999911e+08       5.000000    1829.000000   \n",
       "\n",
       "         total_votes  review_length  help_vs_total  \n",
       "count  147787.000000  147787.000000   61061.000000  \n",
       "mean        2.467260     330.469162       0.718483  \n",
       "std        15.672814     589.711556       0.376537  \n",
       "min         0.000000       1.000000       0.000000  \n",
       "25%         0.000000      95.000000       0.500000  \n",
       "50%         0.000000     173.000000       1.000000  \n",
       "75%         1.000000     363.000000       1.000000  \n",
       "max      2047.000000   37039.000000       1.000000  "
      ]
     },
     "execution_count": 44,
     "metadata": {},
     "output_type": "execute_result"
    }
   ],
   "source": [
    "df_original.describe()"
   ]
  },
  {
   "cell_type": "code",
   "execution_count": 45,
   "id": "15e01ea4",
   "metadata": {},
   "outputs": [
    {
     "data": {
      "text/plain": [
       "array([datetime.date(2014, 10, 12), datetime.date(2015, 2, 25),\n",
       "       datetime.date(2013, 10, 18), ..., datetime.date(2002, 3, 5),\n",
       "       datetime.date(2001, 6, 12), datetime.date(2000, 7, 20)],\n",
       "      dtype=object)"
      ]
     },
     "execution_count": 45,
     "metadata": {},
     "output_type": "execute_result"
    }
   ],
   "source": [
    "df_original['review_date'].unique()\n"
   ]
  },
  {
   "cell_type": "markdown",
   "id": "8aabbd30",
   "metadata": {},
   "source": [
    "## creating a histogram for the data"
   ]
  },
  {
   "cell_type": "code",
   "execution_count": 46,
   "id": "98dec899",
   "metadata": {
    "scrolled": true
   },
   "outputs": [
    {
     "data": {
      "text/plain": [
       "array([[<AxesSubplot:title={'center':'customer_id'}>,\n",
       "        <AxesSubplot:title={'center':'product_parent'}>,\n",
       "        <AxesSubplot:title={'center':'star_rating'}>],\n",
       "       [<AxesSubplot:title={'center':'helpful_votes'}>,\n",
       "        <AxesSubplot:title={'center':'total_votes'}>,\n",
       "        <AxesSubplot:title={'center':'review_length'}>],\n",
       "       [<AxesSubplot:title={'center':'help_vs_total'}>, <AxesSubplot:>,\n",
       "        <AxesSubplot:>]], dtype=object)"
      ]
     },
     "execution_count": 46,
     "metadata": {},
     "output_type": "execute_result"
    },
    {
     "data": {
      "image/png": "[encoded data removed]",
      "text/plain": [
       "<Figure size 1440x720 with 9 Axes>"
      ]
     },
     "metadata": {
      "needs_background": "light"
     },
     "output_type": "display_data"
    }
   ],
   "source": [
    "df_original.hist(bins=60, figsize=(20,10))"
   ]
  },
  {
   "cell_type": "markdown",
   "id": "4ecbfc86",
   "metadata": {},
   "source": [
    "## Data Visualization\n",
    "\n",
    "Random sampling to 50000 samples"
   ]
  },
  {
   "cell_type": "code",
   "execution_count": 47,
   "id": "ae93052d",
   "metadata": {},
   "outputs": [],
   "source": [
    "df_subset = df_original.sample(n=50000,  random_state=42)"
   ]
  },
  {
   "cell_type": "markdown",
   "id": "b0556e02",
   "metadata": {},
   "source": [
    "### Creating a filter \n",
    "\n",
    "Using data from years 2013-2015(inclusive)  based on scatter plot"
   ]
  },
  {
   "cell_type": "code",
   "execution_count": 88,
   "id": "aec2de02",
   "metadata": {},
   "outputs": [],
   "source": [
    "# Standardising the review_date format\n",
    "import datetime\n",
    "datetime.datetime.strptime\n",
    "\n",
    "df_subset = df_subset[(df_original['review_date']>datetime.date(2013,1,1)) & (df_original['review_date']<datetime.date(2015,12,31))]\n"
   ]
  },
  {
   "cell_type": "code",
   "execution_count": 89,
   "id": "e22615d5",
   "metadata": {
    "scrolled": true
   },
   "outputs": [
    {
     "data": {
      "text/plain": [
       "<AxesSubplot:xlabel='review_date', ylabel='star_rating'>"
      ]
     },
     "execution_count": 89,
     "metadata": {},
     "output_type": "execute_result"
    },
    {
     "data": {
      "image/png": "[encoded data removed]",
      "text/plain": [
       "<Figure size 1440x720 with 1 Axes>"
      ]
     },
     "metadata": {},
     "output_type": "display_data"
    }
   ],
   "source": [
    "# df_original.plot(kind=\"scatter\", x=\"customer_id\", y=\"review_date\")\n",
    "df_subset[['review_date','star_rating']].plot(kind='scatter', x='review_date', color=(0,0.2,0), y='star_rating', figsize=(20,10))"
   ]
  },
  {
   "cell_type": "code",
   "execution_count": 51,
   "id": "e5a5fa60",
   "metadata": {},
   "outputs": [
    {
     "data": {
      "text/plain": [
       "(0.0, 16.0, 0.0, 550000.0)"
      ]
     },
     "execution_count": 51,
     "metadata": {},
     "output_type": "execute_result"
    },
    {
     "data": {
      "image/png": "[encoded data removed]",
      "text/plain": [
       "<Figure size 432x288 with 1 Axes>"
      ]
     },
     "metadata": {
      "needs_background": "light"
     },
     "output_type": "display_data"
    }
   ],
   "source": [
    "df_subset.plot(kind=\"scatter\", x=\"star_rating\", y=\"total_votes\", color=(0,0.2,0),\n",
    "             alpha=0.1)\n",
    "plt.axis([0, 16, 0, 550000])"
   ]
  },
  {
   "cell_type": "code",
   "execution_count": 52,
   "id": "591ec360",
   "metadata": {},
   "outputs": [
    {
     "data": {
      "text/plain": [
       "5.0"
      ]
     },
     "execution_count": 52,
     "metadata": {},
     "output_type": "execute_result"
    }
   ],
   "source": [
    "median = df_subset[\"star_rating\"].median()\n",
    "median"
   ]
  },
  {
   "cell_type": "code",
   "execution_count": 53,
   "id": "5f647a68",
   "metadata": {},
   "outputs": [
    {
     "data": {
      "text/plain": [
       "SimpleImputer(strategy='median')"
      ]
     },
     "execution_count": 53,
     "metadata": {},
     "output_type": "execute_result"
    }
   ],
   "source": [
    "from sklearn.impute import SimpleImputer\n",
    "imputer = SimpleImputer(strategy=\"median\") \n",
    "df_numeric = df_subset[[\"star_rating\",\"total_votes\",\"helpful_votes\"]]\n",
    "imputer.fit(df_numeric)"
   ]
  },
  {
   "cell_type": "code",
   "execution_count": 54,
   "id": "46df7269",
   "metadata": {},
   "outputs": [
    {
     "data": {
      "text/plain": [
       "array([5., 0., 0.])"
      ]
     },
     "execution_count": 54,
     "metadata": {},
     "output_type": "execute_result"
    }
   ],
   "source": [
    "imputer.statistics_"
   ]
  },
  {
   "cell_type": "code",
   "execution_count": 55,
   "id": "8c42ad9b",
   "metadata": {},
   "outputs": [
    {
     "data": {
      "text/plain": [
       "array([5., 0., 0.])"
      ]
     },
     "execution_count": 55,
     "metadata": {},
     "output_type": "execute_result"
    }
   ],
   "source": [
    "df_numeric.median().values"
   ]
  },
  {
   "cell_type": "markdown",
   "id": "81d3a3c9",
   "metadata": {},
   "source": [
    "### Ratings with the number of reviews"
   ]
  },
  {
   "cell_type": "code",
   "execution_count": 56,
   "id": "9b267043",
   "metadata": {
    "scrolled": true
   },
   "outputs": [
    {
     "data": {
      "text/html": [
       "<div>\n",
       "<style scoped>\n",
       "    .dataframe tbody tr th:only-of-type {\n",
       "        vertical-align: middle;\n",
       "    }\n",
       "\n",
       "    .dataframe tbody tr th {\n",
       "        vertical-align: top;\n",
       "    }\n",
       "\n",
       "    .dataframe thead th {\n",
       "        text-align: right;\n",
       "    }\n",
       "</style>\n",
       "<table border=\"1\" class=\"dataframe\">\n",
       "  <thead>\n",
       "    <tr style=\"text-align: right;\">\n",
       "      <th></th>\n",
       "      <th>star_rating</th>\n",
       "      <th>No of reviews</th>\n",
       "    </tr>\n",
       "  </thead>\n",
       "  <tbody>\n",
       "    <tr>\n",
       "      <th>0</th>\n",
       "      <td>5.0</td>\n",
       "      <td>24494</td>\n",
       "    </tr>\n",
       "    <tr>\n",
       "      <th>1</th>\n",
       "      <td>4.0</td>\n",
       "      <td>5431</td>\n",
       "    </tr>\n",
       "    <tr>\n",
       "      <th>2</th>\n",
       "      <td>1.0</td>\n",
       "      <td>3166</td>\n",
       "    </tr>\n",
       "    <tr>\n",
       "      <th>3</th>\n",
       "      <td>3.0</td>\n",
       "      <td>2772</td>\n",
       "    </tr>\n",
       "    <tr>\n",
       "      <th>4</th>\n",
       "      <td>2.0</td>\n",
       "      <td>1756</td>\n",
       "    </tr>\n",
       "  </tbody>\n",
       "</table>\n",
       "</div>"
      ],
      "text/plain": [
       "   star_rating  No of reviews\n",
       "0          5.0          24494\n",
       "1          4.0           5431\n",
       "2          1.0           3166\n",
       "3          3.0           2772\n",
       "4          2.0           1756"
      ]
     },
     "execution_count": 56,
     "metadata": {},
     "output_type": "execute_result"
    }
   ],
   "source": [
    "# review ratings grouped\n",
    "review=pd.DataFrame(df_subset.groupby('star_rating').size().sort_values(ascending=False).rename('No of reviews').reset_index())\n",
    "review.head()"
   ]
  },
  {
   "cell_type": "code",
   "execution_count": 118,
   "id": "57884f36",
   "metadata": {},
   "outputs": [
    {
     "data": {
      "image/png": "[encoded data removed]",
      "text/plain": [
       "<Figure size 1080x720 with 1 Axes>"
      ]
     },
     "metadata": {},
     "output_type": "display_data"
    }
   ],
   "source": [
    "sns.set(style=\"whitegrid\")\n",
    "\n",
    "f, ax = plt.subplots(figsize=(15, 10)) \n",
    "sns.set_color_codes(\"pastel\") \n",
    "sns.barplot(y=\"star_rating\", x=\"No of reviews\", data=review.iloc[:20, :10],label=\"Score\", color=\"yellowgreen\")\n",
    "ax.legend(ncol=2, loc=\"upper left\", frameon=True) \n",
    "ax.set(xlabel=\"No of reviews\",ylabel=\"Rating\") \n",
    "sns.despine(left=True, bottom=True) \n",
    "plt.show()"
   ]
  },
  {
   "cell_type": "code",
   "execution_count": 58,
   "id": "890437b7",
   "metadata": {},
   "outputs": [
    {
     "data": {
      "text/plain": [
       "customer_id\n",
       "34247947    7\n",
       "26221913    5\n",
       "12201275    5\n",
       "24846840    5\n",
       "53037408    4\n",
       "           ..\n",
       "17205781    1\n",
       "17206047    1\n",
       "17207079    1\n",
       "17207641    1\n",
       "53096127    1\n",
       "Name: star_rating, Length: 37207, dtype: int64"
      ]
     },
     "execution_count": 58,
     "metadata": {},
     "output_type": "execute_result"
    }
   ],
   "source": [
    "# group by customer id\n",
    "df_subset.groupby('customer_id')['star_rating'].count().sort_values(ascending =False)"
   ]
  },
  {
   "cell_type": "code",
   "execution_count": null,
   "id": "5128ef29",
   "metadata": {},
   "outputs": [],
   "source": []
  },
  {
   "cell_type": "code",
   "execution_count": 59,
   "id": "7b0b1b01",
   "metadata": {},
   "outputs": [
    {
     "data": {
      "text/plain": [
       "customer_id\n",
       "34247947    7\n",
       "26221913    5\n",
       "12201275    5\n",
       "24846840    5\n",
       "53037408    4\n",
       "           ..\n",
       "17205781    1\n",
       "17206047    1\n",
       "17207079    1\n",
       "17207641    1\n",
       "53096127    1\n",
       "Name: product_id, Length: 37207, dtype: int64"
      ]
     },
     "execution_count": 59,
     "metadata": {},
     "output_type": "execute_result"
    }
   ],
   "source": [
    "# group by product id\n",
    "df_subset.groupby('customer_id')['product_id'].count().sort_values(ascending =False)"
   ]
  },
  {
   "cell_type": "markdown",
   "id": "3476924b",
   "metadata": {},
   "source": [
    "Variance of Star ratings for different categories "
   ]
  },
  {
   "cell_type": "code",
   "execution_count": 60,
   "id": "c90ad765",
   "metadata": {},
   "outputs": [],
   "source": [
    "# Filter the data for relevant categories\n",
    "vine_no = df_subset[\"star_rating\"][df_subset['vine'] == \"N\"]\n",
    "vine_yes = df_subset[\"star_rating\"][df_subset['vine'] == \"Y\"]\n",
    "\n",
    "verified_yes = df_subset[\"star_rating\"][df_subset['verified_purchase'] == \"Y\"]\n",
    "verified_no = df_subset[\"star_rating\"][df_subset['verified_purchase'] == \"N\"]\n",
    "\n",
    "long_review = df_subset[\"star_rating\"][df_subset['review_length'] >= 20]\n",
    "short_review = df_subset[\"star_rating\"][df_subset['review_length'] < 20]\n",
    "data = [df_subset[\"star_rating\"], vine_yes, vine_no, verified_no , verified_yes, long_review, short_review ]\n",
    "\n"
   ]
  },
  {
   "cell_type": "code",
   "execution_count": 61,
   "id": "143f8c92",
   "metadata": {},
   "outputs": [
    {
     "data": {
      "image/png": "[encoded data removed]",
      "text/plain": [
       "<Figure size 720x504 with 1 Axes>"
      ]
     },
     "metadata": {},
     "output_type": "display_data"
    }
   ],
   "source": [
    "fig = plt.figure(figsize =(10, 7)) \n",
    "\n",
    "# Creating plot \n",
    "plt.boxplot(data,patch_artist=True, labels=['Overall' , 'Not Vine', 'Vine', 'Not Verified', 'Verified', 'Long Review', 'Short Review']) \n",
    "plt.title('Star Review By Category')\n",
    "plt.xlabel(\"Categories\")\n",
    "plt.ylabel(\"Star Reviews\")\n",
    "\n",
    "\n",
    "# show plot \n",
    "plt.show() "
   ]
  },
  {
   "cell_type": "code",
   "execution_count": null,
   "id": "253709f7",
   "metadata": {},
   "outputs": [],
   "source": []
  },
  {
   "cell_type": "markdown",
   "id": "0e323fa4",
   "metadata": {},
   "source": [
    "### Ratings with their count of occurance and %"
   ]
  },
  {
   "cell_type": "code",
   "execution_count": 62,
   "id": "03a2577f",
   "metadata": {},
   "outputs": [
    {
     "data": {
      "image/png": "[encoded data removed]",
      "text/plain": [
       "<Figure size 432x288 with 1 Axes>"
      ]
     },
     "metadata": {},
     "output_type": "display_data"
    }
   ],
   "source": [
    "sns.set(style=\"white\", palette=\"tab10\", color_codes=True, )\n",
    "ax = sns.countplot(data=df_subset,x='star_rating');\n",
    "ax.set_ylim(0, len(df_subset))\n",
    "ax.set_xlim(-1, 5)\n",
    "for p in ax.patches:\n",
    "    height = p.get_height()\n",
    "    ax.text(p.get_x()+p.get_width()/2.,\n",
    "            height + 9,\n",
    "            '{:%}'.format(height/float(len(df_subset))),\n",
    "            ha=\"center\") \n",
    "plt.rcParams['figure.figsize']=(10,10)\n",
    "plt.show();"
   ]
  },
  {
   "cell_type": "markdown",
   "id": "2dd20b19",
   "metadata": {},
   "source": [
    "### observation is that in the year 2015, 61% of users who left reviews have rated 5"
   ]
  },
  {
   "cell_type": "markdown",
   "id": "0eb15b63",
   "metadata": {},
   "source": [
    "###  Rating distribution with its density"
   ]
  },
  {
   "cell_type": "code",
   "execution_count": 63,
   "id": "aca20d76",
   "metadata": {},
   "outputs": [
    {
     "data": {
      "image/png": "[encoded data removed]",
      "text/plain": [
       "<Figure size 720x576 with 1 Axes>"
      ]
     },
     "metadata": {},
     "output_type": "display_data"
    }
   ],
   "source": [
    "# Rating distribution with its density\n",
    "\n",
    "x = df_subset['star_rating']\n",
    "x=pd.to_numeric(x)\n",
    "\n",
    "plt.figure(figsize=(10,8),)\n",
    "plt.title('Rating Distribution')\n",
    "sns.distplot(x,color='red');"
   ]
  },
  {
   "cell_type": "code",
   "execution_count": 64,
   "id": "25d39ec3",
   "metadata": {},
   "outputs": [
    {
     "data": {
      "image/png": "[encoded data removed]",
      "text/plain": [
       "<Figure size 1152x576 with 1 Axes>"
      ]
     },
     "metadata": {},
     "output_type": "display_data"
    }
   ],
   "source": [
    "# Do a line chart\n",
    "fig, ax = plt.subplots(figsize=(16,8))\n",
    "ax.scatter(df_subset['review_date'], df_subset['star_rating'])\n",
    "ax.set_xlabel('Month')\n",
    "ax.set_ylabel('Ratings')\n",
    "plt.show()"
   ]
  },
  {
   "cell_type": "markdown",
   "id": "ebc1a83a",
   "metadata": {},
   "source": [
    "### Pie chart for distribution of different ratings"
   ]
  },
  {
   "cell_type": "code",
   "execution_count": 65,
   "id": "af44f3f9",
   "metadata": {},
   "outputs": [
    {
     "data": {
      "image/png": "[encoded data removed]",
      "text/plain": [
       "<Figure size 648x504 with 1 Axes>"
      ]
     },
     "metadata": {},
     "output_type": "display_data"
    }
   ],
   "source": [
    "fig = plt.figure(figsize=(9,7))\n",
    "colors = (\"yellowgreen\",\"pink\",\"orange\",\"cyan\",\"red\")\n",
    "wp = {'linewidth':2, 'edgecolor':'black'}\n",
    "tags = df_subset['star_rating'].value_counts()\n",
    "explode = (0.1,0.1,0.2,0.3,0.2)\n",
    "tags.plot(kind='pie', autopct='%1.1f',colors=colors, shadow=True,\n",
    "          startangle=0, wedgeprops=wp, explode=explode, label='')\n",
    "plt.title('Distribution of the different ratings (2015)')\n",
    "plt.show()"
   ]
  },
  {
   "cell_type": "code",
   "execution_count": null,
   "id": "260183f6",
   "metadata": {},
   "outputs": [
    {
     "data": {
      "text/plain": [
       "<AxesSubplot:xlabel='product_title', ylabel='count'>"
      ]
     },
     "execution_count": 90,
     "metadata": {},
     "output_type": "execute_result"
    }
   ],
   "source": [
    "fig = plt.figure(figsize=(30,7))\n",
    "sns.countplot(x=\"product_title\",data=df_subset)"
   ]
  },
  {
   "cell_type": "markdown",
   "id": "344b1c1b",
   "metadata": {},
   "source": [
    "### Number of ratings and mean ratings recorded for each product"
   ]
  },
  {
   "cell_type": "code",
   "execution_count": 67,
   "id": "85c4f79e",
   "metadata": {},
   "outputs": [],
   "source": [
    "df_ratings=pd.DataFrame({'Number of Rating':df_subset.groupby('product_id').count()['star_rating'], 'Mean Rating':df_subset.groupby('product_id').mean()['star_rating']})"
   ]
  },
  {
   "cell_type": "code",
   "execution_count": 119,
   "id": "2cac3f41",
   "metadata": {},
   "outputs": [
    {
     "data": {
      "text/plain": [
       "1     23728\n",
       "2      2932\n",
       "3       906\n",
       "4       389\n",
       "5       197\n",
       "6       107\n",
       "7        67\n",
       "8        38\n",
       "9        26\n",
       "10       17\n",
       "11       12\n",
       "12       11\n",
       "15        6\n",
       "17        5\n",
       "13        4\n",
       "16        4\n",
       "14        4\n",
       "23        2\n",
       "18        2\n",
       "19        2\n",
       "25        1\n",
       "27        1\n",
       "28        1\n",
       "39        1\n",
       "31        1\n",
       "26        1\n",
       "42        1\n",
       "Name: Number of Rating, dtype: int64"
      ]
     },
     "execution_count": 119,
     "metadata": {},
     "output_type": "execute_result"
    }
   ],
   "source": [
    "df_ratings['Number of Rating'].value_counts()"
   ]
  },
  {
   "cell_type": "code",
   "execution_count": 120,
   "id": "da6d2cad",
   "metadata": {},
   "outputs": [
    {
     "data": {
      "image/png": "[encoded data removed]",
      "text/plain": [
       "<Figure size 1296x432 with 2 Axes>"
      ]
     },
     "metadata": {},
     "output_type": "display_data"
    }
   ],
   "source": [
    "# Visualizing number of ratings and mean ratings recorded for each product in year 2015\n",
    "plt.figure(figsize=(18,6))\n",
    "\n",
    "plt.subplot(1,2,1)\n",
    "plt.hist(x='Number of Rating',data=df_ratings,bins=30,color='teal')\n",
    "plt.title('Distribution of Number of Rating', fontsize=15)\n",
    "plt.xlabel('Number of Rating', fontsize=12)\n",
    "plt.ylabel('Frequency', fontsize=12)\n",
    "\n",
    "plt.subplot(1,2,2)\n",
    "plt.hist(x='Mean Rating',data=df_ratings,bins=30, color='slateblue')\n",
    "plt.title('Distribution of Mean Rating', fontsize=15)\n",
    "plt.xlabel('Mean Rating', fontsize=12)\n",
    "plt.yticks([])\n",
    "plt.show()"
   ]
  },
  {
   "cell_type": "markdown",
   "id": "441e6db0",
   "metadata": {},
   "source": [
    "### Visualizing a scatter plot to observe the relationship between Number of Rating and Mean Rating."
   ]
  },
  {
   "cell_type": "code",
   "execution_count": 121,
   "id": "3a68deb8",
   "metadata": {},
   "outputs": [
    {
     "data": {
      "text/plain": [
       "<Figure size 576x432 with 0 Axes>"
      ]
     },
     "metadata": {},
     "output_type": "display_data"
    },
    {
     "data": {
      "image/png": "[encoded data removed]",
      "text/plain": [
       "<Figure size 504x504 with 3 Axes>"
      ]
     },
     "metadata": {},
     "output_type": "display_data"
    }
   ],
   "source": [
    "plt.figure(figsize=(8,6))\n",
    "sns.jointplot(x='Number of Rating', y='Mean Rating',data=df_ratings,color='b', height=7)\n",
    "plt.suptitle('Mean Rating Versus Number of Rating', fontsize=15, y=0.92)\n",
    "\n",
    "plt.show()"
   ]
  },
  {
   "cell_type": "markdown",
   "id": "085c0270",
   "metadata": {},
   "source": [
    "#### The mean rating for all the products is approximately 4.01 on a scale of 5"
   ]
  },
  {
   "cell_type": "code",
   "execution_count": 122,
   "id": "45d61455",
   "metadata": {},
   "outputs": [
    {
     "data": {
      "text/plain": [
       "4.215860103436374"
      ]
     },
     "execution_count": 122,
     "metadata": {},
     "output_type": "execute_result"
    }
   ],
   "source": [
    "df_ratings['Mean Rating'].mean()"
   ]
  },
  {
   "cell_type": "markdown",
   "id": "92264f37",
   "metadata": {},
   "source": [
    "## Testing out the one hot encoder function with product_id column"
   ]
  },
  {
   "cell_type": "code",
   "execution_count": 123,
   "id": "e5241c72",
   "metadata": {},
   "outputs": [
    {
     "data": {
      "text/plain": [
       "B00DS842HS    42\n",
       "B003L1ZYYM    39\n",
       "B00BGA9WK2    31\n",
       "B003EM8008    28\n",
       "B0012S4APK    27\n",
       "              ..\n",
       "B004VLVRRE     1\n",
       "B004K9OCF6     1\n",
       "B007KAYUAE     1\n",
       "B00170DC6Q     1\n",
       "B000EJRAD2     1\n",
       "Name: product_id, Length: 28466, dtype: int64"
      ]
     },
     "execution_count": 123,
     "metadata": {},
     "output_type": "execute_result"
    }
   ],
   "source": [
    "df_subset['product_id'].value_counts()"
   ]
  },
  {
   "cell_type": "code",
   "execution_count": 73,
   "id": "f723e5fe",
   "metadata": {},
   "outputs": [
    {
     "data": {
      "text/html": [
       "<div>\n",
       "<style scoped>\n",
       "    .dataframe tbody tr th:only-of-type {\n",
       "        vertical-align: middle;\n",
       "    }\n",
       "\n",
       "    .dataframe tbody tr th {\n",
       "        vertical-align: top;\n",
       "    }\n",
       "\n",
       "    .dataframe thead th {\n",
       "        text-align: right;\n",
       "    }\n",
       "</style>\n",
       "<table border=\"1\" class=\"dataframe\">\n",
       "  <thead>\n",
       "    <tr style=\"text-align: right;\">\n",
       "      <th></th>\n",
       "      <th>product_id</th>\n",
       "    </tr>\n",
       "  </thead>\n",
       "  <tbody>\n",
       "    <tr>\n",
       "      <th>49123</th>\n",
       "      <td>B001RPT6O8</td>\n",
       "    </tr>\n",
       "    <tr>\n",
       "      <th>146362</th>\n",
       "      <td>B00634MLMW</td>\n",
       "    </tr>\n",
       "    <tr>\n",
       "      <th>70477</th>\n",
       "      <td>B007S6PT2S</td>\n",
       "    </tr>\n",
       "    <tr>\n",
       "      <th>77743</th>\n",
       "      <td>B0000VLPSA</td>\n",
       "    </tr>\n",
       "    <tr>\n",
       "      <th>105137</th>\n",
       "      <td>B000O5DI3W</td>\n",
       "    </tr>\n",
       "    <tr>\n",
       "      <th>...</th>\n",
       "      <td>...</td>\n",
       "    </tr>\n",
       "    <tr>\n",
       "      <th>33991</th>\n",
       "      <td>B00DS842HS</td>\n",
       "    </tr>\n",
       "    <tr>\n",
       "      <th>51928</th>\n",
       "      <td>B00845LR4G</td>\n",
       "    </tr>\n",
       "    <tr>\n",
       "      <th>51023</th>\n",
       "      <td>B00RAZ9QNU</td>\n",
       "    </tr>\n",
       "    <tr>\n",
       "      <th>93328</th>\n",
       "      <td>B001CQG618</td>\n",
       "    </tr>\n",
       "    <tr>\n",
       "      <th>75727</th>\n",
       "      <td>B000EJRAD2</td>\n",
       "    </tr>\n",
       "  </tbody>\n",
       "</table>\n",
       "<p>37619 rows × 1 columns</p>\n",
       "</div>"
      ],
      "text/plain": [
       "        product_id\n",
       "49123   B001RPT6O8\n",
       "146362  B00634MLMW\n",
       "70477   B007S6PT2S\n",
       "77743   B0000VLPSA\n",
       "105137  B000O5DI3W\n",
       "...            ...\n",
       "33991   B00DS842HS\n",
       "51928   B00845LR4G\n",
       "51023   B00RAZ9QNU\n",
       "93328   B001CQG618\n",
       "75727   B000EJRAD2\n",
       "\n",
       "[37619 rows x 1 columns]"
      ]
     },
     "execution_count": 73,
     "metadata": {},
     "output_type": "execute_result"
    }
   ],
   "source": [
    "df_cat_encoder = df_subset[['product_id']]\n",
    "df_cat_encoder"
   ]
  },
  {
   "cell_type": "markdown",
   "id": "8c10fb68",
   "metadata": {},
   "source": [
    "### Sklearn"
   ]
  },
  {
   "cell_type": "code",
   "execution_count": 74,
   "id": "8a80ed5f",
   "metadata": {},
   "outputs": [
    {
     "data": {
      "text/plain": [
       "array([[0., 0., 0., ..., 0., 0., 0.],\n",
       "       [0., 0., 0., ..., 0., 0., 0.],\n",
       "       [0., 0., 0., ..., 0., 0., 0.],\n",
       "       ...,\n",
       "       [0., 0., 0., ..., 0., 0., 0.],\n",
       "       [0., 0., 0., ..., 0., 0., 0.],\n",
       "       [0., 0., 0., ..., 0., 0., 0.]])"
      ]
     },
     "execution_count": 74,
     "metadata": {},
     "output_type": "execute_result"
    }
   ],
   "source": [
    "from sklearn.preprocessing import OneHotEncoder  \n",
    "cat_encoder = OneHotEncoder(sparse=False) # Alternatively, you can set sparse=False when creating the OneHotEncoder\n",
    "df_cat_hot = cat_encoder.fit_transform(df_cat_encoder)\n",
    "df_cat_hot"
   ]
  },
  {
   "cell_type": "code",
   "execution_count": 75,
   "id": "c62763ac",
   "metadata": {},
   "outputs": [
    {
     "data": {
      "text/plain": [
       "[array(['0511189877', '0972683275', '1223070743', ..., 'B0139XZ72K',\n",
       "        'B013D0SMH6', 'B013SOAVQW'], dtype=object)]"
      ]
     },
     "execution_count": 75,
     "metadata": {},
     "output_type": "execute_result"
    }
   ],
   "source": [
    "cat_encoder.categories_"
   ]
  },
  {
   "cell_type": "code",
   "execution_count": 76,
   "id": "754ac405",
   "metadata": {},
   "outputs": [
    {
     "data": {
      "text/plain": [
       "OneHotEncoder(sparse=False)"
      ]
     },
     "execution_count": 76,
     "metadata": {},
     "output_type": "execute_result"
    }
   ],
   "source": [
    "cat_encoder"
   ]
  },
  {
   "cell_type": "markdown",
   "id": "4e41b104",
   "metadata": {},
   "source": [
    "### Building a word count vector for each review"
   ]
  },
  {
   "cell_type": "code",
   "execution_count": null,
   "id": "17106902",
   "metadata": {},
   "outputs": [],
   "source": [
    "# df_subset['review_body'].astype('str')\n",
    "df_subset['review'] = df_subset['review_body'].astype('str')\n",
    "df_subset.head(1000)"
   ]
  },
  {
   "cell_type": "markdown",
   "id": "610fe3d3",
   "metadata": {},
   "source": [
    "### Removing star_rating = 3 as its nuetral"
   ]
  },
  {
   "cell_type": "code",
   "execution_count": 78,
   "id": "e55cd641",
   "metadata": {},
   "outputs": [],
   "source": [
    "df_subset_rating_formatted = df_subset[df_subset['star_rating']!= 3]\n"
   ]
  },
  {
   "cell_type": "markdown",
   "id": "f494a47c",
   "metadata": {},
   "source": [
    "### Creating a new column sentiment, if the rating is > 3 then (+1) & if < 3 then (-1)"
   ]
  },
  {
   "cell_type": "code",
   "execution_count": 79,
   "id": "e5d1fbbc",
   "metadata": {},
   "outputs": [],
   "source": [
    "# # display(df_subset['review_body'].iloc[100])\n",
    "# df_formatted =df_subset.replace(\".\", \",\") for word in df_subset\n",
    "# Function created to get rid of punctuations in the review body\n",
    "\n",
    "# def remove_punc(text):\n",
    "#     import string\n",
    "#     return text.translate(str.maketrans('','',string.punctuation))\n",
    "\n",
    "# # Applying the function to review_body\n",
    "# review_body_formatted = df_subset_rating_formatted['review'].apply(remove_punc)\n",
    "\n",
    "\n",
    "from sklearn.feature_extraction.text import CountVectorizer\n",
    "vectorizer = CountVectorizer()\n",
    "df_subset_rating_formatted['word_count'] = vectorizer.fit(df_subset['review'])"
   ]
  },
  {
   "cell_type": "markdown",
   "id": "df3806f4",
   "metadata": {},
   "source": [
    "### word_count column will eventually be my feature vector or indipendent vector and I will create a new column called sentiment will be my dependent vector [>3 then (+1) & if <3 then (-1)]"
   ]
  },
  {
   "cell_type": "code",
   "execution_count": null,
   "id": "643ba6a0",
   "metadata": {
    "scrolled": true
   },
   "outputs": [],
   "source": [
    "df_subset_rating_formatted['sentiment'] = df_subset_rating_formatted['star_rating'].apply(lambda star_rating : +1 if \n",
    "                                                                                          star_rating > 3 else -1)\n",
    "df_subset_rating_formatted.head()"
   ]
  },
  {
   "cell_type": "markdown",
   "id": "709c01e6",
   "metadata": {},
   "source": [
    "### Correlation "
   ]
  },
  {
   "cell_type": "code",
   "execution_count": 124,
   "id": "42b5d1d5",
   "metadata": {},
   "outputs": [
    {
     "data": {
      "text/html": [
       "<div>\n",
       "<style scoped>\n",
       "    .dataframe tbody tr th:only-of-type {\n",
       "        vertical-align: middle;\n",
       "    }\n",
       "\n",
       "    .dataframe tbody tr th {\n",
       "        vertical-align: top;\n",
       "    }\n",
       "\n",
       "    .dataframe thead th {\n",
       "        text-align: right;\n",
       "    }\n",
       "</style>\n",
       "<table border=\"1\" class=\"dataframe\">\n",
       "  <thead>\n",
       "    <tr style=\"text-align: right;\">\n",
       "      <th></th>\n",
       "      <th>customer_id</th>\n",
       "      <th>product_parent</th>\n",
       "      <th>star_rating</th>\n",
       "      <th>helpful_votes</th>\n",
       "      <th>total_votes</th>\n",
       "      <th>review_length</th>\n",
       "      <th>help_vs_total</th>\n",
       "      <th>sentiment</th>\n",
       "    </tr>\n",
       "  </thead>\n",
       "  <tbody>\n",
       "    <tr>\n",
       "      <th>customer_id</th>\n",
       "      <td>1.000000</td>\n",
       "      <td>-6.494628e-03</td>\n",
       "      <td>-0.006631</td>\n",
       "      <td>0.012606</td>\n",
       "      <td>0.009148</td>\n",
       "      <td>0.066243</td>\n",
       "      <td>0.059652</td>\n",
       "      <td>-9.804865e-03</td>\n",
       "    </tr>\n",
       "    <tr>\n",
       "      <th>product_parent</th>\n",
       "      <td>-0.006495</td>\n",
       "      <td>1.000000e+00</td>\n",
       "      <td>-0.001911</td>\n",
       "      <td>-0.003865</td>\n",
       "      <td>-0.004553</td>\n",
       "      <td>0.002112</td>\n",
       "      <td>-0.001820</td>\n",
       "      <td>-1.685426e-07</td>\n",
       "    </tr>\n",
       "    <tr>\n",
       "      <th>star_rating</th>\n",
       "      <td>-0.006631</td>\n",
       "      <td>-1.911080e-03</td>\n",
       "      <td>1.000000</td>\n",
       "      <td>-0.048207</td>\n",
       "      <td>-0.082648</td>\n",
       "      <td>-0.076418</td>\n",
       "      <td>0.171470</td>\n",
       "      <td>9.491320e-01</td>\n",
       "    </tr>\n",
       "    <tr>\n",
       "      <th>helpful_votes</th>\n",
       "      <td>0.012606</td>\n",
       "      <td>-3.864650e-03</td>\n",
       "      <td>-0.048207</td>\n",
       "      <td>1.000000</td>\n",
       "      <td>0.975389</td>\n",
       "      <td>0.206402</td>\n",
       "      <td>0.100311</td>\n",
       "      <td>-4.848852e-02</td>\n",
       "    </tr>\n",
       "    <tr>\n",
       "      <th>total_votes</th>\n",
       "      <td>0.009148</td>\n",
       "      <td>-4.553491e-03</td>\n",
       "      <td>-0.082648</td>\n",
       "      <td>0.975389</td>\n",
       "      <td>1.000000</td>\n",
       "      <td>0.215349</td>\n",
       "      <td>0.034982</td>\n",
       "      <td>-8.250024e-02</td>\n",
       "    </tr>\n",
       "    <tr>\n",
       "      <th>review_length</th>\n",
       "      <td>0.066243</td>\n",
       "      <td>2.112328e-03</td>\n",
       "      <td>-0.076418</td>\n",
       "      <td>0.206402</td>\n",
       "      <td>0.215349</td>\n",
       "      <td>1.000000</td>\n",
       "      <td>0.081999</td>\n",
       "      <td>-6.272016e-02</td>\n",
       "    </tr>\n",
       "    <tr>\n",
       "      <th>help_vs_total</th>\n",
       "      <td>0.059652</td>\n",
       "      <td>-1.819688e-03</td>\n",
       "      <td>0.171470</td>\n",
       "      <td>0.100311</td>\n",
       "      <td>0.034982</td>\n",
       "      <td>0.081999</td>\n",
       "      <td>1.000000</td>\n",
       "      <td>1.726045e-01</td>\n",
       "    </tr>\n",
       "    <tr>\n",
       "      <th>sentiment</th>\n",
       "      <td>-0.009805</td>\n",
       "      <td>-1.685426e-07</td>\n",
       "      <td>0.949132</td>\n",
       "      <td>-0.048489</td>\n",
       "      <td>-0.082500</td>\n",
       "      <td>-0.062720</td>\n",
       "      <td>0.172605</td>\n",
       "      <td>1.000000e+00</td>\n",
       "    </tr>\n",
       "  </tbody>\n",
       "</table>\n",
       "</div>"
      ],
      "text/plain": [
       "                customer_id  product_parent  star_rating  helpful_votes  \\\n",
       "customer_id        1.000000   -6.494628e-03    -0.006631       0.012606   \n",
       "product_parent    -0.006495    1.000000e+00    -0.001911      -0.003865   \n",
       "star_rating       -0.006631   -1.911080e-03     1.000000      -0.048207   \n",
       "helpful_votes      0.012606   -3.864650e-03    -0.048207       1.000000   \n",
       "total_votes        0.009148   -4.553491e-03    -0.082648       0.975389   \n",
       "review_length      0.066243    2.112328e-03    -0.076418       0.206402   \n",
       "help_vs_total      0.059652   -1.819688e-03     0.171470       0.100311   \n",
       "sentiment         -0.009805   -1.685426e-07     0.949132      -0.048489   \n",
       "\n",
       "                total_votes  review_length  help_vs_total     sentiment  \n",
       "customer_id        0.009148       0.066243       0.059652 -9.804865e-03  \n",
       "product_parent    -0.004553       0.002112      -0.001820 -1.685426e-07  \n",
       "star_rating       -0.082648      -0.076418       0.171470  9.491320e-01  \n",
       "helpful_votes      0.975389       0.206402       0.100311 -4.848852e-02  \n",
       "total_votes        1.000000       0.215349       0.034982 -8.250024e-02  \n",
       "review_length      0.215349       1.000000       0.081999 -6.272016e-02  \n",
       "help_vs_total      0.034982       0.081999       1.000000  1.726045e-01  \n",
       "sentiment         -0.082500      -0.062720       0.172605  1.000000e+00  "
      ]
     },
     "execution_count": 124,
     "metadata": {},
     "output_type": "execute_result"
    }
   ],
   "source": [
    "corr_matrix = df_subset_rating_formatted.corr()\n",
    "corr_matrix\n"
   ]
  },
  {
   "cell_type": "code",
   "execution_count": 125,
   "id": "12be211a",
   "metadata": {},
   "outputs": [
    {
     "data": {
      "text/plain": [
       "star_rating       1.000000\n",
       "sentiment         0.949132\n",
       "help_vs_total     0.171470\n",
       "product_parent   -0.001911\n",
       "customer_id      -0.006631\n",
       "helpful_votes    -0.048207\n",
       "review_length    -0.076418\n",
       "total_votes      -0.082648\n",
       "Name: star_rating, dtype: float64"
      ]
     },
     "execution_count": 125,
     "metadata": {},
     "output_type": "execute_result"
    }
   ],
   "source": [
    "corr_matrix[\"star_rating\"].sort_values(ascending=False)"
   ]
  },
  {
   "cell_type": "markdown",
   "id": "9b3d91fd",
   "metadata": {},
   "source": [
    "### Plotting"
   ]
  },
  {
   "cell_type": "code",
   "execution_count": 84,
   "id": "1600796b",
   "metadata": {},
   "outputs": [
    {
     "data": {
      "text/plain": [
       "array([[<AxesSubplot:xlabel='star_rating', ylabel='star_rating'>,\n",
       "        <AxesSubplot:xlabel='customer_id', ylabel='star_rating'>,\n",
       "        <AxesSubplot:xlabel='product_parent', ylabel='star_rating'>,\n",
       "        <AxesSubplot:xlabel='helpful_votes', ylabel='star_rating'>,\n",
       "        <AxesSubplot:xlabel='total_votes', ylabel='star_rating'>],\n",
       "       [<AxesSubplot:xlabel='star_rating', ylabel='customer_id'>,\n",
       "        <AxesSubplot:xlabel='customer_id', ylabel='customer_id'>,\n",
       "        <AxesSubplot:xlabel='product_parent', ylabel='customer_id'>,\n",
       "        <AxesSubplot:xlabel='helpful_votes', ylabel='customer_id'>,\n",
       "        <AxesSubplot:xlabel='total_votes', ylabel='customer_id'>],\n",
       "       [<AxesSubplot:xlabel='star_rating', ylabel='product_parent'>,\n",
       "        <AxesSubplot:xlabel='customer_id', ylabel='product_parent'>,\n",
       "        <AxesSubplot:xlabel='product_parent', ylabel='product_parent'>,\n",
       "        <AxesSubplot:xlabel='helpful_votes', ylabel='product_parent'>,\n",
       "        <AxesSubplot:xlabel='total_votes', ylabel='product_parent'>],\n",
       "       [<AxesSubplot:xlabel='star_rating', ylabel='helpful_votes'>,\n",
       "        <AxesSubplot:xlabel='customer_id', ylabel='helpful_votes'>,\n",
       "        <AxesSubplot:xlabel='product_parent', ylabel='helpful_votes'>,\n",
       "        <AxesSubplot:xlabel='helpful_votes', ylabel='helpful_votes'>,\n",
       "        <AxesSubplot:xlabel='total_votes', ylabel='helpful_votes'>],\n",
       "       [<AxesSubplot:xlabel='star_rating', ylabel='total_votes'>,\n",
       "        <AxesSubplot:xlabel='customer_id', ylabel='total_votes'>,\n",
       "        <AxesSubplot:xlabel='product_parent', ylabel='total_votes'>,\n",
       "        <AxesSubplot:xlabel='helpful_votes', ylabel='total_votes'>,\n",
       "        <AxesSubplot:xlabel='total_votes', ylabel='total_votes'>]],\n",
       "      dtype=object)"
      ]
     },
     "execution_count": 84,
     "metadata": {},
     "output_type": "execute_result"
    },
    {
     "data": {
      "image/png": "[encoded data removed]",
      "text/plain": [
       "<Figure size 864x576 with 25 Axes>"
      ]
     },
     "metadata": {},
     "output_type": "display_data"
    }
   ],
   "source": [
    "from pandas.plotting import scatter_matrix\n",
    "\n",
    "attributes = [\"star_rating\", \"customer_id\", \"product_parent\",\n",
    "              \"helpful_votes\", \"total_votes\"]\n",
    "scatter_matrix(df_original[attributes], figsize=(12, 8))"
   ]
  },
  {
   "cell_type": "code",
   "execution_count": 85,
   "id": "dba8a30b",
   "metadata": {},
   "outputs": [
    {
     "data": {
      "text/plain": [
       "(0.0, 16.0, 0.0, 550000.0)"
      ]
     },
     "execution_count": 85,
     "metadata": {},
     "output_type": "execute_result"
    },
    {
     "data": {
      "image/png": "[encoded data removed]",
      "text/plain": [
       "<Figure size 720x720 with 1 Axes>"
      ]
     },
     "metadata": {},
     "output_type": "display_data"
    }
   ],
   "source": [
    "data_set_buffer.plot(kind=\"scatter\", x=\"star_rating\", y=\"customer_id\",color=(0,0.2,0),\n",
    "             alpha=0.1)\n",
    "plt.axis([0, 16, 0, 550000])"
   ]
  },
  {
   "cell_type": "code",
   "execution_count": 86,
   "id": "28830ac0",
   "metadata": {
    "scrolled": true
   },
   "outputs": [
    {
     "data": {
      "text/plain": [
       "(0.0, 16.0, 0.0, 550000.0)"
      ]
     },
     "execution_count": 86,
     "metadata": {},
     "output_type": "execute_result"
    },
    {
     "data": {
      "image/png": "[encoded data removed]",
      "text/plain": [
       "<Figure size 720x720 with 1 Axes>"
      ]
     },
     "metadata": {},
     "output_type": "display_data"
    }
   ],
   "source": [
    "data_set_buffer.plot(kind=\"scatter\", x=\"star_rating\", y=\"total_votes\", color=(0,0.2,0),\n",
    "             alpha=0.1)\n",
    "plt.axis([0, 16, 0, 550000])"
   ]
  },
  {
   "cell_type": "markdown",
   "id": "647adb16",
   "metadata": {},
   "source": [
    "# Feature selection with correlation matrix"
   ]
  },
  {
   "cell_type": "code",
   "execution_count": 202,
   "id": "3bcf18db",
   "metadata": {},
   "outputs": [
    {
     "data": {
      "text/html": [
       "<div>\n",
       "<style scoped>\n",
       "    .dataframe tbody tr th:only-of-type {\n",
       "        vertical-align: middle;\n",
       "    }\n",
       "\n",
       "    .dataframe tbody tr th {\n",
       "        vertical-align: top;\n",
       "    }\n",
       "\n",
       "    .dataframe thead th {\n",
       "        text-align: right;\n",
       "    }\n",
       "</style>\n",
       "<table border=\"1\" class=\"dataframe\">\n",
       "  <thead>\n",
       "    <tr style=\"text-align: right;\">\n",
       "      <th></th>\n",
       "      <th>customer_id</th>\n",
       "      <th>product_parent</th>\n",
       "      <th>star_rating</th>\n",
       "      <th>helpful_votes</th>\n",
       "      <th>total_votes</th>\n",
       "      <th>review_length</th>\n",
       "      <th>sentiment</th>\n",
       "    </tr>\n",
       "  </thead>\n",
       "  <tbody>\n",
       "    <tr>\n",
       "      <th>customer_id</th>\n",
       "      <td>1.000000</td>\n",
       "      <td>-6.494628e-03</td>\n",
       "      <td>-0.006631</td>\n",
       "      <td>0.012606</td>\n",
       "      <td>0.009148</td>\n",
       "      <td>0.066243</td>\n",
       "      <td>-9.804865e-03</td>\n",
       "    </tr>\n",
       "    <tr>\n",
       "      <th>product_parent</th>\n",
       "      <td>-0.006495</td>\n",
       "      <td>1.000000e+00</td>\n",
       "      <td>-0.001911</td>\n",
       "      <td>-0.003865</td>\n",
       "      <td>-0.004553</td>\n",
       "      <td>0.002112</td>\n",
       "      <td>-1.685426e-07</td>\n",
       "    </tr>\n",
       "    <tr>\n",
       "      <th>star_rating</th>\n",
       "      <td>-0.006631</td>\n",
       "      <td>-1.911080e-03</td>\n",
       "      <td>1.000000</td>\n",
       "      <td>-0.048207</td>\n",
       "      <td>-0.082648</td>\n",
       "      <td>-0.076418</td>\n",
       "      <td>9.491320e-01</td>\n",
       "    </tr>\n",
       "    <tr>\n",
       "      <th>helpful_votes</th>\n",
       "      <td>0.012606</td>\n",
       "      <td>-3.864650e-03</td>\n",
       "      <td>-0.048207</td>\n",
       "      <td>1.000000</td>\n",
       "      <td>0.975389</td>\n",
       "      <td>0.206402</td>\n",
       "      <td>-4.848852e-02</td>\n",
       "    </tr>\n",
       "    <tr>\n",
       "      <th>total_votes</th>\n",
       "      <td>0.009148</td>\n",
       "      <td>-4.553491e-03</td>\n",
       "      <td>-0.082648</td>\n",
       "      <td>0.975389</td>\n",
       "      <td>1.000000</td>\n",
       "      <td>0.215349</td>\n",
       "      <td>-8.250024e-02</td>\n",
       "    </tr>\n",
       "    <tr>\n",
       "      <th>review_length</th>\n",
       "      <td>0.066243</td>\n",
       "      <td>2.112328e-03</td>\n",
       "      <td>-0.076418</td>\n",
       "      <td>0.206402</td>\n",
       "      <td>0.215349</td>\n",
       "      <td>1.000000</td>\n",
       "      <td>-6.272016e-02</td>\n",
       "    </tr>\n",
       "    <tr>\n",
       "      <th>sentiment</th>\n",
       "      <td>-0.009805</td>\n",
       "      <td>-1.685426e-07</td>\n",
       "      <td>0.949132</td>\n",
       "      <td>-0.048489</td>\n",
       "      <td>-0.082500</td>\n",
       "      <td>-0.062720</td>\n",
       "      <td>1.000000e+00</td>\n",
       "    </tr>\n",
       "  </tbody>\n",
       "</table>\n",
       "</div>"
      ],
      "text/plain": [
       "                customer_id  product_parent  star_rating  helpful_votes  \\\n",
       "customer_id        1.000000   -6.494628e-03    -0.006631       0.012606   \n",
       "product_parent    -0.006495    1.000000e+00    -0.001911      -0.003865   \n",
       "star_rating       -0.006631   -1.911080e-03     1.000000      -0.048207   \n",
       "helpful_votes      0.012606   -3.864650e-03    -0.048207       1.000000   \n",
       "total_votes        0.009148   -4.553491e-03    -0.082648       0.975389   \n",
       "review_length      0.066243    2.112328e-03    -0.076418       0.206402   \n",
       "sentiment         -0.009805   -1.685426e-07     0.949132      -0.048489   \n",
       "\n",
       "                total_votes  review_length     sentiment  \n",
       "customer_id        0.009148       0.066243 -9.804865e-03  \n",
       "product_parent    -0.004553       0.002112 -1.685426e-07  \n",
       "star_rating       -0.082648      -0.076418  9.491320e-01  \n",
       "helpful_votes      0.975389       0.206402 -4.848852e-02  \n",
       "total_votes        1.000000       0.215349 -8.250024e-02  \n",
       "review_length      0.215349       1.000000 -6.272016e-02  \n",
       "sentiment         -0.082500      -0.062720  1.000000e+00  "
      ]
     },
     "execution_count": 202,
     "metadata": {},
     "output_type": "execute_result"
    }
   ],
   "source": [
    "corr_matrix = df_subset_rating_formatted.corr()\n",
    "corr_matrix"
   ]
  },
  {
   "cell_type": "code",
   "execution_count": 206,
   "id": "78805746",
   "metadata": {},
   "outputs": [
    {
     "data": {
      "text/plain": [
       "star_rating       1.000000\n",
       "sentiment         0.949132\n",
       "product_parent   -0.001911\n",
       "customer_id      -0.006631\n",
       "helpful_votes    -0.048207\n",
       "review_length    -0.076418\n",
       "total_votes      -0.082648\n",
       "Name: star_rating, dtype: float64"
      ]
     },
     "execution_count": 206,
     "metadata": {},
     "output_type": "execute_result"
    }
   ],
   "source": [
    "corr_matrix[\"star_rating\"].sort_values(ascending=False)"
   ]
  },
  {
   "cell_type": "code",
   "execution_count": 126,
   "id": "31634491",
   "metadata": {},
   "outputs": [
    {
     "data": {
      "text/plain": [
       "<AxesSubplot:>"
      ]
     },
     "execution_count": 126,
     "metadata": {},
     "output_type": "execute_result"
    },
    {
     "data": {
      "image/png": "[encoded data removed]",
      "text/plain": [
       "<Figure size 1440x864 with 2 Axes>"
      ]
     },
     "metadata": {},
     "output_type": "display_data"
    }
   ],
   "source": [
    "plt.figure(figsize = (20,12))\n",
    "sns.heatmap(corr_matrix.corr())"
   ]
  },
  {
   "cell_type": "code",
   "execution_count": 207,
   "id": "d2a3d77c",
   "metadata": {},
   "outputs": [
    {
     "data": {
      "text/plain": [
       "Index(['total_votes', 'helpful_votes', 'review_length', 'customer_id',\n",
       "       'product_parent'],\n",
       "      dtype='object')"
      ]
     },
     "execution_count": 207,
     "metadata": {},
     "output_type": "execute_result"
    }
   ],
   "source": [
    "top_5_corr = corr_matrix.corr()['star_rating'].sort_values().head(5).index\n",
    "top_5_corr"
   ]
  },
  {
   "cell_type": "code",
   "execution_count": 142,
   "id": "f27e765b",
   "metadata": {},
   "outputs": [],
   "source": [
    "df_subset_rating_formatted = df_subset_rating_formatted.drop(\"help_vs_total\", axis=1)\n",
    "df_subset_rating_formatted = df_subset_rating_formatted.drop(\"review\", axis=1)\n",
    "df_subset_rating_formatted = df_subset_rating_formatted.drop(\"product_title\", axis=1)\n",
    "df_subset_rating_formatted = df_subset_rating_formatted.drop(\"vine\", axis=1)\n",
    "df_subset_rating_formatted = df_subset_rating_formatted.drop(\"verified_purchase\", axis=1)\n",
    "df_subset_rating_formatted = df_subset_rating_formatted.drop(\"review_headline\", axis=1)\n",
    "df_subset_rating_formatted = df_subset_rating_formatted.drop(\"review_date\", axis=1)\n",
    "df_subset_rating_formatted = df_subset_rating_formatted.drop(\"product_id\", axis=1)\n",
    "df_subset_rating_formatted = df_subset_rating_formatted.drop(\"word_count\", axis=1)"
   ]
  },
  {
   "cell_type": "code",
   "execution_count": 143,
   "id": "119e9847",
   "metadata": {
    "scrolled": false
   },
   "outputs": [
    {
     "data": {
      "text/plain": [
       "customer_id       0\n",
       "product_parent    0\n",
       "star_rating       0\n",
       "helpful_votes     0\n",
       "total_votes       0\n",
       "review_body       0\n",
       "review_length     0\n",
       "sentiment         0\n",
       "dtype: int64"
      ]
     },
     "execution_count": 143,
     "metadata": {},
     "output_type": "execute_result"
    }
   ],
   "source": [
    "df_subset_rating_formatted.isna().sum()"
   ]
  },
  {
   "cell_type": "code",
   "execution_count": 177,
   "id": "197a8821",
   "metadata": {},
   "outputs": [
    {
     "data": {
      "text/plain": [
       " 1    29925\n",
       "-1     4922\n",
       "Name: sentiment, dtype: int64"
      ]
     },
     "execution_count": 177,
     "metadata": {},
     "output_type": "execute_result"
    }
   ],
   "source": [
    "df_subset_rating_formatted['sentiment'].value_counts()"
   ]
  },
  {
   "cell_type": "code",
   "execution_count": 144,
   "id": "112b22d6",
   "metadata": {},
   "outputs": [
    {
     "data": {
      "text/html": [
       "<div>\n",
       "<style scoped>\n",
       "    .dataframe tbody tr th:only-of-type {\n",
       "        vertical-align: middle;\n",
       "    }\n",
       "\n",
       "    .dataframe tbody tr th {\n",
       "        vertical-align: top;\n",
       "    }\n",
       "\n",
       "    .dataframe thead th {\n",
       "        text-align: right;\n",
       "    }\n",
       "</style>\n",
       "<table border=\"1\" class=\"dataframe\">\n",
       "  <thead>\n",
       "    <tr style=\"text-align: right;\">\n",
       "      <th></th>\n",
       "      <th>customer_id</th>\n",
       "      <th>product_parent</th>\n",
       "      <th>star_rating</th>\n",
       "      <th>helpful_votes</th>\n",
       "      <th>total_votes</th>\n",
       "      <th>review_body</th>\n",
       "      <th>review_length</th>\n",
       "      <th>sentiment</th>\n",
       "    </tr>\n",
       "  </thead>\n",
       "  <tbody>\n",
       "    <tr>\n",
       "      <th>49123</th>\n",
       "      <td>24716884</td>\n",
       "      <td>977768491</td>\n",
       "      <td>5.0</td>\n",
       "      <td>0.0</td>\n",
       "      <td>0.0</td>\n",
       "      <td>Delicious!</td>\n",
       "      <td>10</td>\n",
       "      <td>1</td>\n",
       "    </tr>\n",
       "    <tr>\n",
       "      <th>70477</th>\n",
       "      <td>29361288</td>\n",
       "      <td>868790931</td>\n",
       "      <td>5.0</td>\n",
       "      <td>1.0</td>\n",
       "      <td>1.0</td>\n",
       "      <td>Great color and consistent throughout the piec...</td>\n",
       "      <td>151</td>\n",
       "      <td>1</td>\n",
       "    </tr>\n",
       "    <tr>\n",
       "      <th>77743</th>\n",
       "      <td>52368765</td>\n",
       "      <td>253098875</td>\n",
       "      <td>4.0</td>\n",
       "      <td>0.0</td>\n",
       "      <td>0.0</td>\n",
       "      <td>It seems to work good for our need. It is easy...</td>\n",
       "      <td>102</td>\n",
       "      <td>1</td>\n",
       "    </tr>\n",
       "    <tr>\n",
       "      <th>105137</th>\n",
       "      <td>37867253</td>\n",
       "      <td>389448806</td>\n",
       "      <td>5.0</td>\n",
       "      <td>0.0</td>\n",
       "      <td>0.0</td>\n",
       "      <td>My dogs wait at the door for their morning med...</td>\n",
       "      <td>122</td>\n",
       "      <td>1</td>\n",
       "    </tr>\n",
       "    <tr>\n",
       "      <th>77710</th>\n",
       "      <td>47537614</td>\n",
       "      <td>182116429</td>\n",
       "      <td>5.0</td>\n",
       "      <td>1.0</td>\n",
       "      <td>2.0</td>\n",
       "      <td>Our grandkids love this!</td>\n",
       "      <td>24</td>\n",
       "      <td>1</td>\n",
       "    </tr>\n",
       "  </tbody>\n",
       "</table>\n",
       "</div>"
      ],
      "text/plain": [
       "        customer_id  product_parent  star_rating  helpful_votes  total_votes  \\\n",
       "49123      24716884       977768491          5.0            0.0          0.0   \n",
       "70477      29361288       868790931          5.0            1.0          1.0   \n",
       "77743      52368765       253098875          4.0            0.0          0.0   \n",
       "105137     37867253       389448806          5.0            0.0          0.0   \n",
       "77710      47537614       182116429          5.0            1.0          2.0   \n",
       "\n",
       "                                              review_body  review_length  \\\n",
       "49123                                          Delicious!             10   \n",
       "70477   Great color and consistent throughout the piec...            151   \n",
       "77743   It seems to work good for our need. It is easy...            102   \n",
       "105137  My dogs wait at the door for their morning med...            122   \n",
       "77710                            Our grandkids love this!             24   \n",
       "\n",
       "        sentiment  \n",
       "49123           1  \n",
       "70477           1  \n",
       "77743           1  \n",
       "105137          1  \n",
       "77710           1  "
      ]
     },
     "execution_count": 144,
     "metadata": {},
     "output_type": "execute_result"
    }
   ],
   "source": [
    "df_subset_rating_formatted.head()"
   ]
  },
  {
   "cell_type": "markdown",
   "id": "8baacbbb",
   "metadata": {},
   "source": [
    "## Preparing the text for sentiment analyses"
   ]
  },
  {
   "cell_type": "code",
   "execution_count": 190,
   "id": "e3b7f73d",
   "metadata": {
    "scrolled": true
   },
   "outputs": [
    {
     "name": "stdout",
     "output_type": "stream",
     "text": [
      "delicious \n",
      "\n",
      "great color consistent throughout piece glass thick sharp seams well made piece delivered described \n",
      "\n",
      "seems work good need easy install used shorter screws supplied \n",
      "\n",
      "dogs wait door morning meds love pill pockets best dog treat ive ever purchased \n",
      "\n",
      "grandkids love \n",
      "\n"
     ]
    }
   ],
   "source": [
    "for i in range(5):\n",
    "    print(df_subset_rating_formatted['review_body'].iloc[i],\"\\n\")"
   ]
  },
  {
   "cell_type": "code",
   "execution_count": 169,
   "id": "0c257173",
   "metadata": {},
   "outputs": [],
   "source": [
    "# Function to perform lowercase conversion,then we removed punctuations,then we performed tokeniozation\n",
    "# and removed stop words.\n",
    "\n",
    "def data_processing(text):\n",
    "    text = text.lower()\n",
    "    text = re.sub(r'[^\\w\\s]','',text)\n",
    "    text_tokens = word_tokenize(text)\n",
    "    filtered_text = [w for w in text_tokens if not w in stop_words]\n",
    "    return \" \".join(filtered_text)"
   ]
  },
  {
   "cell_type": "code",
   "execution_count": 170,
   "id": "97668eea",
   "metadata": {},
   "outputs": [],
   "source": [
    "# Applying data_processing function on the review_body\n",
    "df_subset_rating_formatted.review_body = df_subset_rating_formatted['review_body'].apply(data_processing)"
   ]
  },
  {
   "cell_type": "code",
   "execution_count": 171,
   "id": "0343f2b4",
   "metadata": {},
   "outputs": [],
   "source": [
    "# Used a stemmer to root/base words in the review_body column\n",
    "stemmer = PorterStemmer()\n",
    "def stemming(data):\n",
    "    text = [stemmer.stem(word) for word in data]\n",
    "    return data"
   ]
  },
  {
   "cell_type": "code",
   "execution_count": 172,
   "id": "6ebe2771",
   "metadata": {},
   "outputs": [],
   "source": [
    "# Applying stemming to the processed data in review_body\n",
    "df_subset_rating_formatted['review_body'] = df_subset_rating_formatted['review_body'].apply(lambda x: stemming(x))"
   ]
  },
  {
   "cell_type": "code",
   "execution_count": 175,
   "id": "d41e7fa1",
   "metadata": {},
   "outputs": [
    {
     "name": "stdout",
     "output_type": "stream",
     "text": [
      "delicious \n",
      "\n",
      "great color consistent throughout piece glass thick sharp seams well made piece delivered described \n",
      "\n",
      "seems work good need easy install used shorter screws supplied \n",
      "\n",
      "dogs wait door morning meds love pill pockets best dog treat ive ever purchased \n",
      "\n",
      "grandkids love \n",
      "\n"
     ]
    }
   ],
   "source": [
    "# Checking if the functions worked and the data has been processed as intended\n",
    "for i in range(5):\n",
    "    print(df_subset_rating_formatted['review_body'].iloc[i],\"\\n\")"
   ]
  },
  {
   "cell_type": "code",
   "execution_count": 180,
   "id": "4155c474",
   "metadata": {},
   "outputs": [
    {
     "data": {
      "text/html": [
       "<div>\n",
       "<style scoped>\n",
       "    .dataframe tbody tr th:only-of-type {\n",
       "        vertical-align: middle;\n",
       "    }\n",
       "\n",
       "    .dataframe tbody tr th {\n",
       "        vertical-align: top;\n",
       "    }\n",
       "\n",
       "    .dataframe thead th {\n",
       "        text-align: right;\n",
       "    }\n",
       "</style>\n",
       "<table border=\"1\" class=\"dataframe\">\n",
       "  <thead>\n",
       "    <tr style=\"text-align: right;\">\n",
       "      <th></th>\n",
       "      <th>customer_id</th>\n",
       "      <th>product_parent</th>\n",
       "      <th>star_rating</th>\n",
       "      <th>helpful_votes</th>\n",
       "      <th>total_votes</th>\n",
       "      <th>review_body</th>\n",
       "      <th>review_length</th>\n",
       "      <th>sentiment</th>\n",
       "    </tr>\n",
       "  </thead>\n",
       "  <tbody>\n",
       "    <tr>\n",
       "      <th>49123</th>\n",
       "      <td>24716884</td>\n",
       "      <td>977768491</td>\n",
       "      <td>5.0</td>\n",
       "      <td>0.0</td>\n",
       "      <td>0.0</td>\n",
       "      <td>delicious</td>\n",
       "      <td>10</td>\n",
       "      <td>1</td>\n",
       "    </tr>\n",
       "    <tr>\n",
       "      <th>70477</th>\n",
       "      <td>29361288</td>\n",
       "      <td>868790931</td>\n",
       "      <td>5.0</td>\n",
       "      <td>1.0</td>\n",
       "      <td>1.0</td>\n",
       "      <td>great color consistent throughout piece glass ...</td>\n",
       "      <td>151</td>\n",
       "      <td>1</td>\n",
       "    </tr>\n",
       "    <tr>\n",
       "      <th>77743</th>\n",
       "      <td>52368765</td>\n",
       "      <td>253098875</td>\n",
       "      <td>4.0</td>\n",
       "      <td>0.0</td>\n",
       "      <td>0.0</td>\n",
       "      <td>seems work good need easy install used shorter...</td>\n",
       "      <td>102</td>\n",
       "      <td>1</td>\n",
       "    </tr>\n",
       "    <tr>\n",
       "      <th>105137</th>\n",
       "      <td>37867253</td>\n",
       "      <td>389448806</td>\n",
       "      <td>5.0</td>\n",
       "      <td>0.0</td>\n",
       "      <td>0.0</td>\n",
       "      <td>dogs wait door morning meds love pill pockets ...</td>\n",
       "      <td>122</td>\n",
       "      <td>1</td>\n",
       "    </tr>\n",
       "    <tr>\n",
       "      <th>77710</th>\n",
       "      <td>47537614</td>\n",
       "      <td>182116429</td>\n",
       "      <td>5.0</td>\n",
       "      <td>1.0</td>\n",
       "      <td>2.0</td>\n",
       "      <td>grandkids love</td>\n",
       "      <td>24</td>\n",
       "      <td>1</td>\n",
       "    </tr>\n",
       "  </tbody>\n",
       "</table>\n",
       "</div>"
      ],
      "text/plain": [
       "        customer_id  product_parent  star_rating  helpful_votes  total_votes  \\\n",
       "49123      24716884       977768491          5.0            0.0          0.0   \n",
       "70477      29361288       868790931          5.0            1.0          1.0   \n",
       "77743      52368765       253098875          4.0            0.0          0.0   \n",
       "105137     37867253       389448806          5.0            0.0          0.0   \n",
       "77710      47537614       182116429          5.0            1.0          2.0   \n",
       "\n",
       "                                              review_body  review_length  \\\n",
       "49123                                           delicious             10   \n",
       "70477   great color consistent throughout piece glass ...            151   \n",
       "77743   seems work good need easy install used shorter...            102   \n",
       "105137  dogs wait door morning meds love pill pockets ...            122   \n",
       "77710                                      grandkids love             24   \n",
       "\n",
       "        sentiment  \n",
       "49123           1  \n",
       "70477           1  \n",
       "77743           1  \n",
       "105137          1  \n",
       "77710           1  "
      ]
     },
     "execution_count": 180,
     "metadata": {},
     "output_type": "execute_result"
    }
   ],
   "source": [
    "pos_reviews = df_subset_rating_formatted[df_subset_rating_formatted.sentiment == 1]\n",
    "pos_reviews.head()"
   ]
  },
  {
   "cell_type": "markdown",
   "id": "f686d37d",
   "metadata": {},
   "source": [
    "## Splitting data into x(review_body) and y(sentiment) axis"
   ]
  },
  {
   "cell_type": "code",
   "execution_count": 192,
   "id": "967dd7ae",
   "metadata": {},
   "outputs": [],
   "source": [
    "X = df_subset_rating_formatted['review_body']\n",
    "Y = df_subset_rating_formatted['sentiment']"
   ]
  },
  {
   "cell_type": "code",
   "execution_count": 194,
   "id": "bf1a7851",
   "metadata": {},
   "outputs": [],
   "source": [
    "# Vectorising the data before moving to model building\n",
    "cv = CountVectorizer()\n",
    "X = cv.fit_transform(df_subset_rating_formatted['review_body'])"
   ]
  },
  {
   "cell_type": "code",
   "execution_count": 195,
   "id": "6f8c1367",
   "metadata": {},
   "outputs": [],
   "source": [
    "# Splitting the data into test and train set with test set as 20% of the dataset\n",
    "x_train, x_test, y_train, y_test = train_test_split(X,Y, test_size=0.2, random_state=42)"
   ]
  },
  {
   "cell_type": "code",
   "execution_count": 196,
   "id": "aafd21a5",
   "metadata": {},
   "outputs": [
    {
     "name": "stdout",
     "output_type": "stream",
     "text": [
      "Size of x_train:  (27877, 43263)\n",
      "Size of y_train:  (27877,)\n",
      "Size of x_test:  (6970, 43263)\n",
      "Size of y_test:  (6970,)\n"
     ]
    }
   ],
   "source": [
    "# Checking the size of the train and test data\n",
    "print(\"Size of x_train: \",(x_train.shape))\n",
    "print(\"Size of y_train: \",(y_train.shape))\n",
    "print(\"Size of x_test: \",(x_test.shape))\n",
    "print(\"Size of y_test: \",(y_test.shape))"
   ]
  },
  {
   "cell_type": "code",
   "execution_count": 197,
   "id": "af3a9acd",
   "metadata": {},
   "outputs": [],
   "source": [
    "# Importing necessary libraries from sklearen\n",
    "from sklearn.linear_model import LogisticRegression\n",
    "from sklearn.naive_bayes import MultinomialNB\n",
    "from sklearn.metrics import accuracy_score, classification_report, confusion_matrix"
   ]
  },
  {
   "cell_type": "code",
   "execution_count": 198,
   "id": "75f838dd",
   "metadata": {},
   "outputs": [
    {
     "name": "stdout",
     "output_type": "stream",
     "text": [
      "Test accuracy: 91.38%\n"
     ]
    }
   ],
   "source": [
    "# Building the ML sentiomental analyses model\n",
    "# Training the data on the logistic regression model\n",
    "# Including the x train and y train in the LR model\n",
    "# Predict values of the test data\n",
    "# Calculating the accuracy of the model\n",
    "# Displaying the accuracy\n",
    "logreg = LogisticRegression()\n",
    "logreg.fit(x_train, y_train)\n",
    "logreg_pred = logreg.predict(x_test)\n",
    "logreg_acc = accuracy_score(logreg_pred, y_test)\n",
    "print(\"Test accuracy: {:.2f}%\".format(logreg_acc*100))"
   ]
  },
  {
   "cell_type": "code",
   "execution_count": 199,
   "id": "34c8fec4",
   "metadata": {},
   "outputs": [
    {
     "name": "stdout",
     "output_type": "stream",
     "text": [
      "[[ 586  416]\n",
      " [ 185 5783]]\n",
      "\n",
      "\n",
      "              precision    recall  f1-score   support\n",
      "\n",
      "          -1       0.76      0.58      0.66      1002\n",
      "           1       0.93      0.97      0.95      5968\n",
      "\n",
      "    accuracy                           0.91      6970\n",
      "   macro avg       0.85      0.78      0.81      6970\n",
      "weighted avg       0.91      0.91      0.91      6970\n",
      "\n"
     ]
    }
   ],
   "source": [
    "# Confusion matrix and classification report\n",
    "print(confusion_matrix(y_test, logreg_pred))\n",
    "print(\"\\n\")\n",
    "print(classification_report(y_test, logreg_pred))"
   ]
  },
  {
   "cell_type": "code",
   "execution_count": 200,
   "id": "7aeb4f86",
   "metadata": {},
   "outputs": [
    {
     "name": "stdout",
     "output_type": "stream",
     "text": [
      "Test accuracy: 89.73%\n"
     ]
    }
   ],
   "source": [
    "# Training the data on Multinominal Naive Bayes Model\n",
    "# Fitting the x and y train on the model\n",
    "# Predict values of the test data\n",
    "# Calculating the accuracy of the model\n",
    "# Displaying the accuracy\n",
    "mnb = MultinomialNB()\n",
    "mnb.fit(x_train, y_train)\n",
    "mnb_pred = mnb.predict(x_test)\n",
    "mnb_acc = accuracy_score(mnb_pred, y_test)\n",
    "print(\"Test accuracy: {:.2f}%\".format(mnb_acc*100))"
   ]
  },
  {
   "cell_type": "code",
   "execution_count": 201,
   "id": "dcde0dc5",
   "metadata": {},
   "outputs": [
    {
     "name": "stdout",
     "output_type": "stream",
     "text": [
      "[[ 411  591]\n",
      " [ 125 5843]]\n",
      "\n",
      "\n",
      "              precision    recall  f1-score   support\n",
      "\n",
      "          -1       0.77      0.41      0.53      1002\n",
      "           1       0.91      0.98      0.94      5968\n",
      "\n",
      "    accuracy                           0.90      6970\n",
      "   macro avg       0.84      0.69      0.74      6970\n",
      "weighted avg       0.89      0.90      0.88      6970\n",
      "\n"
     ]
    }
   ],
   "source": [
    "# Displaying the \n",
    "print(confusion_matrix(y_test, mnb_pred))\n",
    "print(\"\\n\")\n",
    "print(classification_report(y_test, mnb_pred))"
   ]
  }
 ],
 "metadata": {
  "kernelspec": {
   "display_name": "Python 3 (ipykernel)",
   "language": "python",
   "name": "python3"
  },
  "language_info": {
   "codemirror_mode": {
    "name": "ipython",
    "version": 3
   },
   "file_extension": ".py",
   "mimetype": "text/x-python",
   "name": "python",
   "nbconvert_exporter": "python",
   "pygments_lexer": "ipython3",
   "version": "3.9.12"
  }
 },
 "nbformat": 4,
 "nbformat_minor": 5
}
